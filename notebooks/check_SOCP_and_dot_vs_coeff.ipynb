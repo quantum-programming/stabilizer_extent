{
 "cells": [
  {
   "cell_type": "markdown",
   "metadata": {},
   "source": [
    "# Check SOCP and dot vs coeff\n",
    "\n",
    "## Check SOCP\n",
    "\n",
    "Check the functions with simple SOCP problems."
   ]
  },
  {
   "cell_type": "code",
   "execution_count": 1,
   "metadata": {},
   "outputs": [],
   "source": [
    "import math\n",
    "import numpy as np\n",
    "from exputils.Amat.get import get_Amat_sparse\n",
    "from exputils.state.random_ket import make_random_quantum_state\n",
    "from exputils.extent.actual import calculate_extent_actual"
   ]
  },
  {
   "cell_type": "code",
   "execution_count": 2,
   "metadata": {},
   "outputs": [
    {
     "name": "stdout",
     "output_type": "stream",
     "text": [
      "stabilizer_extent=3.999999984454875 x=array([1.99999998e+00-5.16961663e-25j, 2.93307391e-23+1.16539702e-23j,\n",
      "       6.34496897e-09+1.48898415e-23j, 6.34496897e-09-3.52093974e-23j,\n",
      "       6.34496897e-09-1.43332359e-23j, 6.34496897e-09+3.53838860e-23j])\n",
      "stabilizer_extent=3.9999999844548793 x=array([-6.26189404e-24-3.22686313e-23j,  1.99999998e+00-6.12006132e-25j,\n",
      "        6.34496898e-09-3.90661988e-23j, -7.76099689e-24-6.34496898e-09j,\n",
      "       -6.34496898e-09-3.94122116e-23j, -8.28049146e-24+6.34496898e-09j])\n",
      "stabilizer_extent=0.9999999823516531 x=array([ 9.14141454e-09-8.33254801e-24j, -8.18301895e-25-9.14141455e-09j,\n",
      "        6.46395621e-09-6.46395622e-09j, -2.09162737e-18+3.85726677e-25j,\n",
      "        6.46395621e-09+6.46395622e-09j,  9.99999974e-01-1.16107415e-23j])\n",
      "stabilizer_extent=4.000000000100565 x=array([2.00000000e+00+0.j, 0.00000000e+00+0.j, 9.68911744e-12+0.j,\n",
      "       9.68911744e-12+0.j, 9.68911744e-12+0.j, 9.68911744e-12+0.j])\n",
      "stabilizer_extent=4.000000000100563 x=array([ 0.00000000e+00+0.00000000e+00j,  2.00000000e+00+0.00000000e+00j,\n",
      "        9.68911746e-12+0.00000000e+00j,  0.00000000e+00-9.68911746e-12j,\n",
      "       -9.68911746e-12+0.00000000e+00j,  0.00000000e+00+9.68911746e-12j])\n",
      "stabilizer_extent=1.0000000123962405 x=array([2.41747785e-09+0.00000000e+00j, 0.00000000e+00-2.41747780e-09j,\n",
      "       1.70941497e-09-1.70941496e-09j, 7.72112440e-18+0.00000000e+00j,\n",
      "       1.70941497e-09+1.70941496e-09j, 9.99999992e-01+0.00000000e+00j])\n",
      "Set parameter Username\n",
      "Academic license - for non-commercial use only - expires 2025-04-12\n",
      "stabilizer_extent=4.000004232041928 x=array([1.99999745e+00+0.j, 0.00000000e+00+0.j, 9.03068195e-07+0.j,\n",
      "       9.03068195e-07+0.j, 9.03068195e-07+0.j, 9.03068195e-07+0.j])\n",
      "stabilizer_extent=4.000004232041928 x=array([ 0.00000000e+00+0.00000000e+00j,  1.99999745e+00+0.00000000e+00j,\n",
      "        9.03068195e-07+0.00000000e+00j,  0.00000000e+00-9.03068195e-07j,\n",
      "       -9.03068195e-07+0.00000000e+00j,  0.00000000e+00+9.03068195e-07j])\n",
      "stabilizer_extent=1.000001058010723 x=array([4.51534295e-07+0.00000000e+00j, 0.00000000e+00-4.51534295e-07j,\n",
      "       3.19282828e-07-3.19282828e-07j, 0.00000000e+00+0.00000000e+00j,\n",
      "       3.19282828e-07+3.19282828e-07j, 9.99998723e-01+0.00000000e+00j])\n",
      "n=1\n",
      "stabilizer_extent_cvx=1.0936721846396456\n",
      "stabilizer_extent_mosek=1.0936722141811304\n",
      "stabilizer_extent_gurobi=1.0936723784140518\n",
      "stabilizer_extent_cvx=1.2357291795010001\n",
      "stabilizer_extent_mosek=1.2357292062379386\n",
      "stabilizer_extent_gurobi=1.2357296692955757\n",
      "stabilizer_extent_cvx=1.2531224668435874\n",
      "stabilizer_extent_mosek=1.2531225050509072\n",
      "stabilizer_extent_gurobi=1.2531227540308887\n",
      "stabilizer_extent_cvx=1.143813443136438\n",
      "stabilizer_extent_mosek=1.1438135583593176\n",
      "stabilizer_extent_gurobi=1.1438144062394493\n",
      "stabilizer_extent_cvx=1.1558425193438255\n",
      "stabilizer_extent_mosek=1.1558425618599302\n",
      "stabilizer_extent_gurobi=1.1558426919692477\n",
      "n=2\n",
      "stabilizer_extent_cvx=1.290929191622506\n",
      "stabilizer_extent_mosek=1.2909292490392648\n",
      "stabilizer_extent_gurobi=1.290929371904787\n",
      "stabilizer_extent_cvx=1.5213922131966864\n",
      "stabilizer_extent_mosek=1.5213922386017271\n",
      "stabilizer_extent_gurobi=1.5213926074437787\n",
      "stabilizer_extent_cvx=1.4540242000414751\n",
      "stabilizer_extent_mosek=1.4540243352230349\n",
      "stabilizer_extent_gurobi=1.454025745669297\n",
      "stabilizer_extent_cvx=1.3785512079764788\n",
      "stabilizer_extent_mosek=1.378551292669093\n",
      "stabilizer_extent_gurobi=1.378552222746863\n",
      "stabilizer_extent_cvx=1.3739367551485704\n",
      "stabilizer_extent_mosek=1.3739368518300425\n",
      "stabilizer_extent_gurobi=1.3739371829809637\n"
     ]
    }
   ],
   "source": [
    "# 自明ケースでの確認\n",
    "for method in [\"cvx\", \"mosek\", \"gurobi\"]:\n",
    "    psi = np.array([2.0, 0.0])\n",
    "    stabilizer_extent, x = calculate_extent_actual(1, psi, method)[:2]\n",
    "    print(f\"{stabilizer_extent=} {x=}\")\n",
    "    assert np.isclose(stabilizer_extent, 2**2)\n",
    "    assert np.allclose(x, [2, 0, 0, 0, 0, 0], atol=1e-5)\n",
    "\n",
    "    psi = np.array([0.0, 2.0])\n",
    "    stabilizer_extent, x = calculate_extent_actual(1, psi, method)[:2]\n",
    "    print(f\"{stabilizer_extent=} {x=}\")\n",
    "    assert np.isclose(stabilizer_extent, 2**2)\n",
    "    assert np.allclose(x, [0, 2, 0, 0, 0, 0], atol=1e-5)\n",
    "\n",
    "    psi = np.array([1 / math.sqrt(2), -1j / math.sqrt(2)])\n",
    "    stabilizer_extent, x = calculate_extent_actual(1, psi, method)[:2]\n",
    "    print(f\"{stabilizer_extent=} {x=}\")\n",
    "    assert np.isclose(stabilizer_extent, 1**2)\n",
    "    assert np.allclose(x, [0, 0, 0, 0, 0, 1], atol=1e-5)\n",
    "\n",
    "# ランダムケースでの確認\n",
    "for n in [1, 2]:\n",
    "    print(f\"{n=}\")\n",
    "    Amat = get_Amat_sparse(n)\n",
    "    for seed in range(5):\n",
    "        np.random.seed(seed)\n",
    "        psi = np.random.rand(2**n) + 1j * np.random.rand(2**n)\n",
    "        psi /= np.linalg.norm(psi)\n",
    "        stabilizer_extent_cvx, x1, y1 = calculate_extent_actual(n, psi, \"cvx\")\n",
    "        print(f\"{stabilizer_extent_cvx=}\")\n",
    "        stabilizer_extent_mosek, x2, y2 = calculate_extent_actual(n, psi, \"mosek\")\n",
    "        print(f\"{stabilizer_extent_mosek=}\")\n",
    "        stabilizer_extent_gurobi = calculate_extent_actual(n, psi, \"gurobi\")[0]\n",
    "        print(f\"{stabilizer_extent_gurobi=}\")\n",
    "        assert np.isclose(stabilizer_extent_cvx, stabilizer_extent_mosek, atol=1e-5)\n",
    "        assert np.isclose(stabilizer_extent_cvx, stabilizer_extent_gurobi, atol=1e-5)\n",
    "        assert np.max(np.real(np.abs(y1.conj().T @ Amat))) >= 1 - 1e-5\n",
    "        assert np.max(np.real(np.abs(y2.conj().T @ Amat))) >= 1 - 1e-5"
   ]
  },
  {
   "cell_type": "markdown",
   "metadata": {},
   "source": [
    "## Relation between dot and coeff\n",
    "\n",
    "It is predicted that dot product is a good indicator for the importance of a stabilizer state in stabilizer extent.\n",
    "We check this hypothesis by comparing the dot product and the coefficient of the stabilizer state in the stabilizer extent."
   ]
  },
  {
   "cell_type": "code",
   "execution_count": 5,
   "metadata": {},
   "outputs": [
    {
     "data": {
      "application/vnd.jupyter.widget-view+json": {
       "model_id": "c27b73b35a2d455e8c7d5bc9594b3379",
       "version_major": 2,
       "version_minor": 0
      },
      "text/plain": [
       "  0%|          | 0/36720 [00:00<?, ?it/s]"
      ]
     },
     "metadata": {},
     "output_type": "display_data"
    },
    {
     "name": "stdout",
     "output_type": "stream",
     "text": [
      "Problem\n",
      "  Name                   :                 \n",
      "  Objective sense        : minimize        \n",
      "  Type                   : CONIC (conic optimization problem)\n",
      "  Constraints            : 32              \n",
      "  Affine conic cons.     : 36720 (110160 rows)\n",
      "  Disjunctive cons.      : 0               \n",
      "  Cones                  : 0               \n",
      "  Scalar variables       : 110160          \n",
      "  Matrix variables       : 0               \n",
      "  Integer variables      : 0               \n",
      "\n",
      "Optimizer started.\n",
      "Presolve started.\n",
      "Linear dependency checker started.\n",
      "Linear dependency checker terminated.\n",
      "Eliminator started.\n",
      "Freed constraints in eliminator : 0\n",
      "Eliminator terminated.\n",
      "Eliminator - tries                  : 1                 time                   : 0.00            \n",
      "Lin. dep.  - tries                  : 1                 time                   : 0.05            \n",
      "Lin. dep.  - primal attempts        : 1                 successes              : 1               \n",
      "Lin. dep.  - dual attempts          : 0                 successes              : 0               \n",
      "Lin. dep.  - primal deps.           : 0                 dual deps.             : 0               \n",
      "Presolve terminated. Time: 0.42    \n",
      "Optimizer  - threads                : 4               \n",
      "Optimizer  - solved problem         : the primal      \n",
      "Optimizer  - Constraints            : 32              \n",
      "Optimizer  - Cones                  : 36720           \n",
      "Optimizer  - Scalar variables       : 110160            conic                  : 110160          \n",
      "Optimizer  - Semi-definite variables: 0                 scalarized             : 0               \n",
      "Factor     - setup time             : 0.50            \n",
      "Factor     - dense det. time        : 0.00              GP order time          : 0.00            \n",
      "Factor     - nonzeros before factor : 528               after factor           : 528             \n",
      "Factor     - dense dim.             : 0                 flops                  : 3.31e+07        \n",
      "ITE PFEAS    DFEAS    GFEAS    PRSTATUS   POBJ              DOBJ              MU       TIME  \n",
      "0   3.4e-01  0.0e+00  3.7e+04  0.00e+00   3.672000000e+04   0.000000000e+00   1.0e+00  1.27  \n",
      "1   3.8e-04  1.7e-15  1.3e+00  1.00e+00   4.006784561e+01   8.705087978e-04   1.1e-03  1.41  \n",
      "2   7.6e-05  2.7e-15  1.2e-01  1.00e+00   8.794918118e+00   6.373362345e-01   2.2e-04  1.50  \n",
      "3   5.1e-05  2.8e-15  6.5e-02  1.00e+00   6.803863506e+00   1.403662108e+00   1.5e-04  1.66  \n",
      "4   3.8e-05  1.4e-14  4.3e-02  1.00e+00   5.431804466e+00   1.375453906e+00   1.1e-04  1.83  \n",
      "5   3.7e-05  4.4e-14  4.0e-02  1.00e+00   5.254757764e+00   1.353064245e+00   1.1e-04  2.03  \n",
      "6   2.5e-05  5.4e-14  2.3e-02  1.00e+00   4.132079611e+00   1.450682452e+00   7.3e-05  2.09  \n",
      "7   2.2e-05  5.1e-14  1.9e-02  1.00e+00   3.797069535e+00   1.459292625e+00   6.4e-05  2.17  \n",
      "8   1.2e-05  3.9e-14  7.3e-03  1.00e+00   2.779294670e+00   1.530404723e+00   3.4e-05  2.27  \n",
      "9   9.8e-06  5.8e-14  5.6e-03  1.00e+00   2.592662835e+00   1.542610259e+00   2.9e-05  2.36  \n",
      "10  7.5e-06  5.8e-14  3.7e-03  1.00e+00   2.356098691e+00   1.557495852e+00   2.2e-05  2.52  \n",
      "11  3.5e-06  5.5e-14  1.2e-03  1.00e+00   1.956631192e+00   1.581454269e+00   1.0e-05  2.69  \n",
      "12  1.9e-06  4.4e-14  4.9e-04  1.00e+00   1.794538735e+00   1.588786898e+00   5.6e-06  2.86  \n",
      "13  1.3e-06  7.2e-14  2.6e-04  1.00e+00   1.727192482e+00   1.591448272e+00   3.7e-06  3.03  \n",
      "14  6.4e-07  8.2e-14  9.4e-05  1.00e+00   1.661968221e+00   1.593407819e+00   1.9e-06  3.20  \n",
      "15  3.7e-07  7.5e-14  4.1e-05  1.00e+00   1.633552331e+00   1.594117842e+00   1.1e-06  3.38  \n",
      "16  1.5e-07  1.2e-13  1.1e-05  1.00e+00   1.610804941e+00   1.594618950e+00   4.4e-07  3.53  \n",
      "17  7.1e-08  2.7e-13  3.5e-06  1.00e+00   1.602381831e+00   1.594787728e+00   2.1e-07  3.70  \n",
      "18  2.2e-08  1.9e-13  5.8e-07  1.00e+00   1.597159246e+00   1.594849851e+00   6.3e-08  3.83  \n",
      "19  5.6e-09  4.5e-13  7.6e-08  1.00e+00   1.595460194e+00   1.594864629e+00   1.6e-08  3.94  \n",
      "20  1.6e-09  9.4e-13  1.1e-08  1.00e+00   1.595034259e+00   1.594867377e+00   4.5e-09  4.01  \n",
      "21  4.7e-10  2.5e-12  1.8e-09  1.00e+00   1.594917708e+00   1.594868028e+00   1.4e-09  4.11  \n",
      "22  1.1e-10  6.0e-12  2.1e-10  1.00e+00   1.594879923e+00   1.594868160e+00   3.2e-10  4.19  \n",
      "23  1.7e-11  1.2e-11  1.1e-11  1.00e+00   1.594869849e+00   1.594868188e+00   4.5e-11  4.28  \n",
      "24  3.9e-12  3.0e-11  9.7e-13  1.00e+00   1.594868518e+00   1.594868192e+00   8.9e-12  4.38  \n",
      "25  3.7e-12  5.5e-11  1.4e-13  1.00e+00   1.594868280e+00   1.594868192e+00   2.4e-12  4.47  \n",
      "26  1.3e-11  1.5e-10  1.3e-14  1.00e+00   1.594868211e+00   1.594868193e+00   5.0e-13  4.58  \n",
      "Optimizer terminated. Time: 4.70    \n",
      "\n",
      "\n",
      "Interior-point solution summary\n",
      "  Problem status  : PRIMAL_AND_DUAL_FEASIBLE\n",
      "  Solution status : OPTIMAL\n",
      "  Primal.  obj: 1.5948682111e+00    nrm: 3e-01    Viol.  con: 1e-11    var: 0e+00    acc: 0e+00  \n",
      "  Dual.    obj: 1.5948681927e+00    nrm: 1e+00    Viol.  con: 0e+00    var: 1e-10    acc: 0e+00  \n",
      "stabilizer_extent=2.5436046106260144\n",
      "x=array([ 3.00569870e-14+2.84093499e-14j,  2.60256363e-13+1.73307520e-13j,\n",
      "       -2.83481448e-14+8.33761875e-14j, ...,\n",
      "       -2.13886504e-13+3.18110294e-13j, -9.46548769e-13+3.47197848e-14j,\n",
      "       -1.64622582e-13+3.37123972e-13j])\n"
     ]
    },
    {
     "data": {
      "image/png": "[encoded data removed]",
      "text/plain": [
       "<Figure size 640x480 with 1 Axes>"
      ]
     },
     "metadata": {},
     "output_type": "display_data"
    }
   ],
   "source": [
    "n = 4\n",
    "psi = make_random_quantum_state(\"pure\", n, seed=0)\n",
    "Amat = get_Amat_sparse(n)\n",
    "stabilizer_extent, x, y = calculate_extent_actual(n, psi, \"mosek\", True)\n",
    "print(f\"{stabilizer_extent=}\")\n",
    "print(f\"{x=}\")\n",
    "dots = psi.conj() @ Amat\n",
    "\n",
    "import matplotlib.pyplot as plt\n",
    "\n",
    "plt.scatter(np.abs(dots), np.abs(x))\n",
    "plt.show()"
   ]
  },
  {
   "cell_type": "code",
   "execution_count": 7,
   "metadata": {},
   "outputs": [
    {
     "data": {
      "image/png": "[encoded data removed]",
      "text/plain": [
       "<Figure size 640x480 with 1 Axes>"
      ]
     },
     "metadata": {},
     "output_type": "display_data"
    }
   ],
   "source": [
    "plt.hist(np.abs(y @ Amat), bins=100)\n",
    "plt.show()"
   ]
  }
 ],
 "metadata": {
  "kernelspec": {
   "display_name": "StabilizerSimulator",
   "language": "python",
   "name": "python3"
  },
  "language_info": {
   "codemirror_mode": {
    "name": "ipython",
    "version": 3
   },
   "file_extension": ".py",
   "mimetype": "text/x-python",
   "name": "python",
   "nbconvert_exporter": "python",
   "pygments_lexer": "ipython3",
   "version": "3.12.2"
  }
 },
 "nbformat": 4,
 "nbformat_minor": 2
}
