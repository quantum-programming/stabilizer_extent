{
 "cells": [
  {
   "cell_type": "markdown",
   "metadata": {},
   "source": [
    "# Check Amat by Pauli basis\n",
    "\n",
    "In the data folder, there are Amat in Pauli basis which we generated at 'RoM-handbook' repository.\n",
    "\n",
    "Here, we check the Amat by this Pauli basis Amat.\n"
   ]
  },
  {
   "cell_type": "code",
   "execution_count": 1,
   "metadata": {},
   "outputs": [],
   "source": [
    "import numpy as np\n",
    "import scipy.sparse\n",
    "from openfermion import QubitOperator, get_sparse_operator\n",
    "from tqdm.auto import tqdm"
   ]
  },
  {
   "cell_type": "code",
   "execution_count": 2,
   "metadata": {},
   "outputs": [],
   "source": [
    "def _pauli(pauli_id, qubit_pos) -> QubitOperator:\n",
    "    if pauli_id == 0:\n",
    "        return QubitOperator(\"\")\n",
    "    else:\n",
    "        return QubitOperator(\"IXYZ\"[pauli_id] + str(qubit_pos))\n",
    "\n",
    "\n",
    "def pauli(pauli_id_list, qubit_pos_list) -> QubitOperator:\n",
    "    if type(pauli_id_list) == int and type(qubit_pos_list) == int:\n",
    "        return _pauli(pauli_id_list, qubit_pos_list)\n",
    "    else:\n",
    "        assert type(pauli_id_list) == list and type(qubit_pos_list) == list\n",
    "        ret = QubitOperator(\"\")\n",
    "        for _pauli_id, _qubit_pos in zip(pauli_id_list, qubit_pos_list):\n",
    "            ret = _pauli(_pauli_id, _qubit_pos) * ret\n",
    "        return ret\n",
    "\n",
    "\n",
    "def idx_to_pauli(i, n_qubit):\n",
    "    quart_string = np.base_repr(i, 4).zfill(n_qubit)\n",
    "    return pauli(list(map(int, quart_string)), list(range(n_qubit)))\n",
    "\n",
    "\n",
    "def idx_to_pauli_mat(i, n_qubit):\n",
    "    quart_string = np.base_repr(i, 4).zfill(n_qubit)\n",
    "    pauli_id_list = list(map(int, quart_string))\n",
    "    return get_sparse_operator(\n",
    "        pauli(pauli_id_list, list(range(n_qubit))), n_qubits=n_qubit\n",
    "    ).toarray()\n",
    "\n",
    "\n",
    "def extract_pure_state(dm, shift=1e-10):\n",
    "    values, vectors = np.linalg.eigh(dm)\n",
    "    assert np.count_nonzero(np.abs(values) < shift) == len(values) - 1\n",
    "    assert np.isclose(np.max(values), 1)\n",
    "    ret = vectors[:, np.argmax(values)]\n",
    "    first_nonzero_idx = np.argmax(np.abs(ret) > shift)\n",
    "    if ret[first_nonzero_idx] < 0:\n",
    "        ret *= -1\n",
    "    return ret\n",
    "\n",
    "\n",
    "def check_Amat(Amat: np.ndarray, Amat_in_Pauli: np.ndarray, pauli_matrices: np.ndarray):\n",
    "    # Check if the made Amat is correct\n",
    "    # All stabilizer states have 2^n Pauli matrices which stabilizes the state\n",
    "    for idx, state in tqdm(enumerate(Amat.T), total=Amat.T.shape[0], desc=\"check_Amat\"):\n",
    "        for idx2 in range(Amat_in_Pauli.shape[0]):\n",
    "            if Amat_in_Pauli[idx2, idx] == 0:\n",
    "                continue\n",
    "            pauli_matrix = pauli_matrices[idx2]\n",
    "            sign = Amat_in_Pauli[idx2, idx]\n",
    "            assert np.allclose(sign * pauli_matrix @ state, state)\n",
    "\n",
    "\n",
    "def make_Amat(n: int, Amat_in_Pauli: np.ndarray, pauli_matrices: np.ndarray):\n",
    "    # density matrix |psi><psi| = sum_i c_i |i><i| (by definition of c_i)\n",
    "    # |psi> = extract_pure_state(|psi><psi|)\n",
    "    _Amat = []\n",
    "    for col in tqdm(Amat_in_Pauli.T, desc=f\"make_Amat n={n}\"):\n",
    "        dm = sum(c * mat for c, mat in zip(col, pauli_matrices)) / 2**n\n",
    "        _Amat.append(extract_pure_state(dm))\n",
    "    Amat = np.array(_Amat).T\n",
    "    assert np.allclose(np.linalg.norm(Amat, axis=0), 1)\n",
    "    if n <= 3:\n",
    "        check_Amat(Amat, Amat_in_Pauli, pauli_matrices)\n",
    "    return Amat"
   ]
  },
  {
   "cell_type": "code",
   "execution_count": 3,
   "metadata": {},
   "outputs": [
    {
     "data": {
      "application/vnd.jupyter.widget-view+json": {
       "model_id": "5e2d52fe572b438f8b6d51826d1e0088",
       "version_major": 2,
       "version_minor": 0
      },
      "text/plain": [
       "make_Amat n=1:   0%|          | 0/6 [00:00<?, ?it/s]"
      ]
     },
     "metadata": {},
     "output_type": "display_data"
    },
    {
     "data": {
      "application/vnd.jupyter.widget-view+json": {
       "model_id": "14bcadba251e41bba5ab46d939dd5fc9",
       "version_major": 2,
       "version_minor": 0
      },
      "text/plain": [
       "check_Amat:   0%|          | 0/6 [00:00<?, ?it/s]"
      ]
     },
     "metadata": {},
     "output_type": "display_data"
    },
    {
     "data": {
      "application/vnd.jupyter.widget-view+json": {
       "model_id": "440a47f737fc48fea8d8c3bece9f1e77",
       "version_major": 2,
       "version_minor": 0
      },
      "text/plain": [
       "make_Amat n=2:   0%|          | 0/60 [00:00<?, ?it/s]"
      ]
     },
     "metadata": {},
     "output_type": "display_data"
    },
    {
     "data": {
      "application/vnd.jupyter.widget-view+json": {
       "model_id": "f8919fa93aa7444e9c7aa3f75d61d3a3",
       "version_major": 2,
       "version_minor": 0
      },
      "text/plain": [
       "check_Amat:   0%|          | 0/60 [00:00<?, ?it/s]"
      ]
     },
     "metadata": {},
     "output_type": "display_data"
    },
    {
     "data": {
      "application/vnd.jupyter.widget-view+json": {
       "model_id": "abf0ff544f2e41948b555160c582a9e5",
       "version_major": 2,
       "version_minor": 0
      },
      "text/plain": [
       "make_Amat n=3:   0%|          | 0/1080 [00:00<?, ?it/s]"
      ]
     },
     "metadata": {},
     "output_type": "display_data"
    },
    {
     "data": {
      "application/vnd.jupyter.widget-view+json": {
       "model_id": "ca57995aa85c4f3997861ecd13d874be",
       "version_major": 2,
       "version_minor": 0
      },
      "text/plain": [
       "check_Amat:   0%|          | 0/1080 [00:00<?, ?it/s]"
      ]
     },
     "metadata": {},
     "output_type": "display_data"
    },
    {
     "data": {
      "application/vnd.jupyter.widget-view+json": {
       "model_id": "51eee894c8744122aa200d76ee2f8536",
       "version_major": 2,
       "version_minor": 0
      },
      "text/plain": [
       "make_Amat n=4:   0%|          | 0/36720 [00:00<?, ?it/s]"
      ]
     },
     "metadata": {},
     "output_type": "display_data"
    }
   ],
   "source": [
    "from exputils.Amat import get_Amat\n",
    "\n",
    "\n",
    "def post_process(Amat):\n",
    "    eps = 1e-10\n",
    "    first_nonzero_index = np.argmax(np.abs(Amat) > eps, axis=0)\n",
    "    Amat /= Amat[first_nonzero_index, np.arange(Amat.shape[1])]\n",
    "    Amat /= np.linalg.norm(Amat, axis=0)\n",
    "    return np.array(\n",
    "        sorted(\n",
    "            Amat.T.tolist(),\n",
    "            key=lambda x: (\n",
    "                np.round(np.array(x).real, 5).tolist()\n",
    "                + np.round(np.array(x).imag, 5).tolist()\n",
    "            ),\n",
    "        )\n",
    "    ).T\n",
    "\n",
    "\n",
    "for n in [1, 2, 3, 4]:\n",
    "    pauli_matrices = np.array([idx_to_pauli_mat(i, n) for i in range(4**n)])\n",
    "    Amat_in_Pauli = scipy.sparse.load_npz(\n",
    "        f\"../data/Amat_in_Pauli/Amat_in_Pauli{n}.npz\"\n",
    "    ).toarray()\n",
    "    Amat_check = post_process(make_Amat(n, Amat_in_Pauli, pauli_matrices))\n",
    "    Amat_data = post_process(get_Amat(n))\n",
    "    assert np.allclose(Amat_check, Amat_data)"
   ]
  },
  {
   "cell_type": "markdown",
   "metadata": {},
   "source": [
    "Now, we checked the validity of the Amat.\n"
   ]
  }
 ],
 "metadata": {
  "kernelspec": {
   "display_name": "StabilizerSimulator",
   "language": "python",
   "name": "python3"
  },
  "language_info": {
   "codemirror_mode": {
    "name": "ipython",
    "version": 3
   },
   "file_extension": ".py",
   "mimetype": "text/x-python",
   "name": "python",
   "nbconvert_exporter": "python",
   "pygments_lexer": "ipython3",
   "version": "3.12.2"
  },
  "toc": {
   "base_numbering": 1,
   "nav_menu": {},
   "number_sections": true,
   "sideBar": true,
   "skip_h1_title": false,
   "title_cell": "Table of Contents",
   "title_sidebar": "Contents",
   "toc_cell": false,
   "toc_position": {},
   "toc_section_display": true,
   "toc_window_display": false
  }
 },
 "nbformat": 4,
 "nbformat_minor": 2
}
