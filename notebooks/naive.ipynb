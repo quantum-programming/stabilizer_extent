{
 "cells": [
  {
   "cell_type": "code",
   "execution_count": 2,
   "metadata": {},
   "outputs": [
    {
     "data": {
      "application/vnd.jupyter.widget-view+json": {
       "model_id": "cf4f769a481743e2a269b382d40f7510",
       "version_major": 2,
       "version_minor": 0
      },
      "text/plain": [
       "  0%|          | 0/2423520 [00:00<?, ?it/s]"
      ]
     },
     "metadata": {},
     "output_type": "display_data"
    },
    {
     "name": "stdout",
     "output_type": "stream",
     "text": [
      "Problem\n",
      "  Name                   :                 \n",
      "  Objective sense        : minimize        \n",
      "  Type                   : CONIC (conic optimization problem)\n",
      "  Constraints            : 64              \n",
      "  Affine conic cons.     : 2423520 (7270560 rows)\n",
      "  Disjunctive cons.      : 0               \n",
      "  Cones                  : 0               \n",
      "  Scalar variables       : 7270560         \n",
      "  Matrix variables       : 0               \n",
      "  Integer variables      : 0               \n",
      "\n",
      "Optimizer started.\n",
      "Presolve started.\n",
      "Linear dependency checker started.\n",
      "Linear dependency checker terminated.\n",
      "Eliminator started.\n",
      "Freed constraints in eliminator : 0\n",
      "Eliminator terminated.\n",
      "Eliminator - tries                  : 1                 time                   : 0.00            \n",
      "Lin. dep.  - tries                  : 1                 time                   : 2.82            \n",
      "Lin. dep.  - primal attempts        : 1                 successes              : 1               \n",
      "Lin. dep.  - dual attempts          : 0                 successes              : 0               \n",
      "Lin. dep.  - primal deps.           : 0                 dual deps.             : 0               \n",
      "Presolve terminated. Time: 31.40   \n",
      "Optimizer  - threads                : 20              \n",
      "Optimizer  - solved problem         : the primal      \n",
      "Optimizer  - Constraints            : 64              \n",
      "Optimizer  - Cones                  : 2423520         \n",
      "Optimizer  - Scalar variables       : 7270560           conic                  : 7270560         \n",
      "Optimizer  - Semi-definite variables: 0                 scalarized             : 0               \n",
      "Factor     - setup time             : 103.61          \n",
      "Factor     - dense det. time        : 0.00              GP order time          : 0.00            \n",
      "Factor     - nonzeros before factor : 2080              after factor           : 2080            \n",
      "Factor     - dense dim.             : 0                 flops                  : 8.34e+09        \n",
      "ITE PFEAS    DFEAS    GFEAS    PRSTATUS   POBJ              DOBJ              MU       TIME  \n",
      "0   2.8e-01  0.0e+00  2.4e+06  0.00e+00   2.423520000e+06   0.000000000e+00   1.0e+00  163.64\n",
      "1   5.5e-04  1.7e-15  2.1e+02  1.00e+00   4.771705548e+03   3.953370777e-05   2.0e-03  170.25\n",
      "2   4.3e-06  3.0e-15  1.5e-01  1.00e+00   3.761263829e+01   3.322194333e-02   1.6e-05  176.28\n",
      "3   8.5e-07  3.8e-15  1.2e-02  1.00e+00   8.944062452e+00   1.587256235e+00   3.0e-06  183.06\n",
      "4   8.0e-07  5.8e-15  1.1e-02  1.00e+00   8.618268051e+00   1.681505159e+00   2.9e-06  189.30\n",
      "5   8.0e-07  5.8e-14  1.1e-02  1.00e+00   8.565720401e+00   1.650484083e+00   2.9e-06  195.40\n",
      "6   7.3e-07  5.6e-13  9.5e-03  1.00e+00   7.872617118e+00   1.560337395e+00   2.6e-06  201.72\n",
      "7   6.0e-07  2.6e-13  7.1e-03  1.00e+00   6.808402978e+00   1.629854316e+00   2.1e-06  208.10\n",
      "8   5.6e-07  4.0e-13  6.4e-03  1.00e+00   6.441737088e+00   1.607939860e+00   2.0e-06  214.62\n",
      "9   4.7e-07  4.8e-13  5.0e-03  1.00e+00   5.718509126e+00   1.656154236e+00   1.7e-06  220.93\n",
      "10  4.6e-07  5.3e-13  4.8e-03  1.00e+00   5.606354554e+00   1.650067452e+00   1.6e-06  225.43\n",
      "11  3.4e-07  5.1e-13  3.1e-03  1.00e+00   4.631831354e+00   1.701659803e+00   1.2e-06  229.86\n",
      "12  2.5e-07  6.5e-13  2.0e-03  1.00e+00   3.922243521e+00   1.754530700e+00   8.9e-07  234.20\n",
      "13  1.5e-07  2.6e-13  8.9e-04  1.00e+00   3.088620555e+00   1.815837790e+00   5.3e-07  241.86\n",
      "14  1.2e-07  4.4e-13  6.7e-04  1.00e+00   2.882368933e+00   1.826511151e+00   4.4e-07  248.04\n",
      "15  7.0e-08  6.3e-13  3.0e-04  1.00e+00   2.459825645e+00   1.847976656e+00   2.5e-07  255.59\n",
      "16  6.0e-08  6.9e-13  2.4e-04  1.00e+00   2.374460886e+00   1.851732824e+00   2.2e-07  262.71\n",
      "17  3.4e-08  4.6e-13  9.9e-05  1.00e+00   2.153485036e+00   1.860438061e+00   1.2e-07  269.90\n",
      "18  2.5e-08  3.4e-13  6.4e-05  1.00e+00   2.081328165e+00   1.862825708e+00   9.0e-08  275.31\n",
      "19  1.7e-08  5.2e-13  3.6e-05  1.00e+00   2.012967771e+00   1.864812819e+00   6.1e-08  280.90\n",
      "20  1.0e-08  3.7e-13  1.7e-05  1.00e+00   1.955817825e+00   1.866105799e+00   3.7e-08  287.09\n",
      "21  7.4e-09  4.1e-13  1.0e-05  1.00e+00   1.930635994e+00   1.866638371e+00   2.6e-08  292.54\n",
      "22  4.8e-09  4.5e-13  5.4e-06  1.00e+00   1.908960443e+00   1.867011688e+00   1.7e-08  299.29\n",
      "23  4.1e-09  3.9e-13  4.3e-06  1.00e+00   1.903170351e+00   1.867098734e+00   1.5e-08  304.95\n",
      "24  2.6e-09  3.9e-13  2.2e-06  1.00e+00   1.889879900e+00   1.867277777e+00   9.3e-09  310.66\n",
      "25  7.3e-10  8.0e-13  3.2e-07  1.00e+00   1.873764541e+00   1.867430314e+00   2.6e-09  316.79\n",
      "26  4.8e-10  1.1e-12  1.7e-07  1.00e+00   1.871582839e+00   1.867444316e+00   1.7e-09  323.60\n",
      "27  1.7e-10  8.7e-13  3.5e-08  1.00e+00   1.868894714e+00   1.867459388e+00   5.9e-10  329.26\n",
      "28  2.8e-11  3.9e-12  2.5e-09  1.00e+00   1.867706951e+00   1.867462205e+00   1.0e-10  335.91\n",
      "29  2.4e-12  4.8e-12  4.9e-11  1.00e+00   1.867480720e+00   1.867462608e+00   7.5e-12  342.88\n",
      "30  6.2e-13  1.8e-11  3.0e-13  1.00e+00   1.867463234e+00   1.867462633e+00   2.5e-13  349.83\n",
      "31  1.8e-12  9.4e-11  3.9e-16  1.00e+00   1.867462641e+00   1.867462634e+00   3.0e-15  356.41\n",
      "Optimizer terminated. Time: 365.67  \n",
      "\n",
      "\n",
      "Interior-point solution summary\n",
      "  Problem status  : PRIMAL_AND_DUAL_FEASIBLE\n",
      "  Solution status : OPTIMAL\n",
      "  Primal.  obj: 1.8674626413e+00    nrm: 3e-01    Viol.  con: 2e-12    var: 0e+00    acc: 0e+00  \n",
      "  Dual.    obj: 1.8674626342e+00    nrm: 1e+00    Viol.  con: 0e+00    var: 9e-11    acc: 0e+00  \n"
     ]
    }
   ],
   "source": [
    "import time\n",
    "\n",
    "from exputils.extent.custom import calculate_extent_custom\n",
    "from exputils.Amat.get import get_Amat_sparse\n",
    "from exputils.state.random_ket import make_random_quantum_state\n",
    "\n",
    "\n",
    "n = 5\n",
    "kind = \"pure\"\n",
    "psi = make_random_quantum_state(\"pure\", n, 0)\n",
    "Amat = get_Amat_sparse(n)\n",
    "t0 = time.perf_counter()\n",
    "calculate_extent_custom(n, Amat, psi, verbose=True)\n",
    "t1 = time.perf_counter()\n",
    "with open(f\"../data/naive/{kind}_{n}_data.txt\", mode=\"w\") as f:\n",
    "    print(t1 - t0, file=f)"
   ]
  },
  {
   "cell_type": "code",
   "execution_count": null,
   "metadata": {},
   "outputs": [],
   "source": []
  }
 ],
 "metadata": {
  "kernelspec": {
   "display_name": ".venv",
   "language": "python",
   "name": "python3"
  },
  "language_info": {
   "codemirror_mode": {
    "name": "ipython",
    "version": 3
   },
   "file_extension": ".py",
   "mimetype": "text/x-python",
   "name": "python",
   "nbconvert_exporter": "python",
   "pygments_lexer": "ipython3",
   "version": "3.11.5"
  }
 },
 "nbformat": 4,
 "nbformat_minor": 2
}
