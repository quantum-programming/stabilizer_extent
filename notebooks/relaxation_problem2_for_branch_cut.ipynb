{
 "cells": [
  {
   "cell_type": "markdown",
   "metadata": {},
   "source": [
    "# Relaxation Problem 2 for Branch Cut"
   ]
  },
  {
   "cell_type": "markdown",
   "metadata": {},
   "source": [
    "Given integer $N$ and array $P$ of length $2^N$.\n",
    "\n",
    "We want to evaluate the answer of the following problem:\n",
    "$$\n",
    "    \\max_{Q \\in \\mathbb{F}_2^{n \\times n}, c \\in \\mathbb{F}_2^{n}} (-1)^{x^\\top Q x} i^{c^\\top x} P_x\n",
    "$$"
   ]
  },
  {
   "cell_type": "markdown",
   "metadata": {},
   "source": [
    "## naive method"
   ]
  },
  {
   "cell_type": "code",
   "execution_count": 11,
   "metadata": {},
   "outputs": [],
   "source": [
    "import math\n",
    "from tqdm.auto import tqdm\n",
    "from numba import njit\n",
    "\n",
    "\n",
    "@njit(cache=True)\n",
    "def xQc_to_coeff(k, x, Q, c):\n",
    "    cx = 0\n",
    "    xQx = 0\n",
    "    Q_idx = 0\n",
    "    for i in range(k):\n",
    "        cx ^= ((x >> i) & 1) * ((c >> i) & 1)\n",
    "        for j in range(i, k):\n",
    "            if ((Q >> Q_idx) & 1) & ((x >> i) & 1) & ((x >> j) & 1):\n",
    "                xQx ^= 1\n",
    "            Q_idx += 1\n",
    "    return (-1) ** xQx * (complex(0, 1) ** cx)\n",
    "\n",
    "\n",
    "@njit(cache=True)\n",
    "def calc_abs_from_bQc(k, b, Q, c):\n",
    "    ret = complex(0.0, 0.0)\n",
    "    for x in range(1 << k):\n",
    "        ret += xQc_to_coeff(k, x, Q, c) * b[x]\n",
    "    return abs(ret)\n",
    "\n",
    "\n",
    "def solveSlow(N: int, Xs: list):\n",
    "    assert len(Xs) == 1 << N\n",
    "    k = N\n",
    "    maxAbs = 0.0\n",
    "    for Q in tqdm(range(1 << (k * (k + 1) // 2))):\n",
    "        for c in range(1 << k):\n",
    "            absVal = calc_abs_from_bQc(k, Xs, Q, c)\n",
    "            maxAbs = max(maxAbs, absVal)\n",
    "    return maxAbs"
   ]
  },
  {
   "cell_type": "markdown",
   "metadata": {},
   "source": [
    "## upper bound 1"
   ]
  },
  {
   "cell_type": "code",
   "execution_count": 12,
   "metadata": {},
   "outputs": [],
   "source": [
    "def threshold1(N: int, Xs: list):\n",
    "    return sum(np.abs(Xs))"
   ]
  },
  {
   "cell_type": "markdown",
   "metadata": {},
   "source": [
    "## upper bound 2\n",
    "\n",
    "Please refer to `relaxation_problem_1_for_branch_cut.ipynb` for detail."
   ]
  },
  {
   "cell_type": "code",
   "execution_count": 13,
   "metadata": {},
   "outputs": [],
   "source": [
    "def rotate(x):\n",
    "    if x.imag >= 0:\n",
    "        if x.real >= 0:\n",
    "            return x\n",
    "        else:\n",
    "            return x * -1j\n",
    "    else:\n",
    "        if x.real <= 0:\n",
    "            return -x\n",
    "        else:\n",
    "            return x * 1j\n",
    "\n",
    "\n",
    "def threshold2(N: int, Xs: list):\n",
    "    assert len(Xs) == 1 << N\n",
    "    rotated_Xs = [rotate(X) for X in Xs]\n",
    "    Ys = rotated_Xs.copy()\n",
    "    Ys.sort(key=lambda Y: (Y.imag / Y.real) if Y.real != 0 else 1e9)\n",
    "    sumYsReal = sum(Y.real for Y in Ys)\n",
    "    sumYsImag = sum(Y.imag for Y in Ys)\n",
    "    maxAbs2 = sumYsReal**2 + sumYsImag**2\n",
    "    for i in range((1 << N) - 1):\n",
    "        sumYsReal += -Ys[i].real - Ys[i].imag\n",
    "        sumYsImag += -Ys[i].imag + Ys[i].real\n",
    "        absVal2 = sumYsReal**2 + sumYsImag**2\n",
    "        maxAbs2 = max(maxAbs2, absVal2)\n",
    "        Ys[i] *= 1j\n",
    "    return maxAbs2**0.5"
   ]
  },
  {
   "cell_type": "markdown",
   "metadata": {},
   "source": [
    "## upper bound 3"
   ]
  },
  {
   "cell_type": "code",
   "execution_count": 14,
   "metadata": {},
   "outputs": [],
   "source": [
    "import matplotlib.pyplot as plt\n",
    "\n",
    "\n",
    "\n",
    "def vis(N: int, Xs: list, title=\"\"):\n",
    "    for i in range(1 << N):\n",
    "        plt.plot([0, Xs[i].real], [0, Xs[i].imag], label=f\"{i}\")\n",
    "    plt.gca().set_aspect(\"equal\", adjustable=\"box\")\n",
    "    if N <= 3:\n",
    "        plt.legend()\n",
    "\n",
    "\n",
    "    plt.title(title)\n",
    "    plt.show()"
   ]
  },
  {
   "cell_type": "code",
   "execution_count": 21,
   "metadata": {},
   "outputs": [],
   "source": [
    "from exputils.math.popcount import popcount\n",
    "\n",
    "\n",
    "def solveFast(N: int, Xs: list):\n",
    "    assert len(Xs) == 1 << N\n",
    "    maxAbs2 = 0.0\n",
    "    Ys = [0.0] * (1 << N)\n",
    "    for c in range(1 << N):\n",
    "        for i in range(1 << N):\n",
    "            Ys[i] = (1j ** (popcount(i & c) & 1)) * Xs[i]\n",
    "            if Ys[i].imag < 0:\n",
    "                Ys[i] *= -1\n",
    "        Ys.sort(key=lambda Y: -(Y.real / Y.imag) if Y.imag != 0 else 1e9)\n",
    "        # vis(N, Ys)\n",
    "        sumYsReal = sum(Y.real for Y in Ys)\n",
    "        sumYsImag = sum(Y.imag for Y in Ys)\n",
    "        maxAbs2 = max(maxAbs2, sumYsReal**2 + sumYsImag**2)\n",
    "        for i in range((1 << N) - 1):\n",
    "            sumYsReal += -Ys[i].real - Ys[i].imag\n",
    "            sumYsImag += -Ys[i].imag + Ys[i].real\n",
    "            absVal2 = sumYsReal**2 + sumYsImag**2\n",
    "            maxAbs2 = max(maxAbs2, absVal2)\n",
    "            Ys[i] *= -1\n",
    "            # vis(N, Ys)\n",
    "    return maxAbs2**0.5"
   ]
  },
  {
   "cell_type": "markdown",
   "metadata": {},
   "source": [
    "## check performance"
   ]
  },
  {
   "cell_type": "code",
   "execution_count": 22,
   "metadata": {},
   "outputs": [
    {
     "name": "stdout",
     "output_type": "stream",
     "text": [
      "t1=318.161949826417\n",
      "t2=288.25320521966063\n",
      "fast=286.9314519884549\n"
     ]
    }
   ],
   "source": [
    "import numpy as np\n",
    "\n",
    "N = 8\n",
    "Xs = (np.random.normal(size=1 << N) + 1j * np.random.normal(size=1 << N)).tolist()\n",
    "\n",
    "# slow = solveSlow(N, Xs)\n",
    "# print(f\"{slow=}\")\n",
    "t1 = threshold1(N, Xs)\n",
    "print(f\"{t1=}\")\n",
    "t2 = threshold2(N, Xs)\n",
    "print(f\"{t2=}\")\n",
    "fast = solveFast(N, Xs)\n",
    "print(f\"{fast=}\")"
   ]
  }
 ],
 "metadata": {
  "kernelspec": {
   "display_name": "stabilizerExtent",
   "language": "python",
   "name": "python3"
  },
  "language_info": {
   "codemirror_mode": {
    "name": "ipython",
    "version": 3
   },
   "file_extension": ".py",
   "mimetype": "text/x-python",
   "name": "python",
   "nbconvert_exporter": "python",
   "pygments_lexer": "ipython3",
   "version": "3.12.2"
  }
 },
 "nbformat": 4,
 "nbformat_minor": 2
}
