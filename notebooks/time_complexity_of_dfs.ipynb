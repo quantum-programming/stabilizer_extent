{
 "cells": [
  {
   "cell_type": "markdown",
   "metadata": {},
   "source": [
    "# Time Complexity of dfs\n",
    "\n",
    "$T(n) = 2^{n+1} (T(n-1) + n2^{n-1}), \\quad T(1) = 4$"
   ]
  },
  {
   "cell_type": "code",
   "execution_count": 12,
   "metadata": {},
   "outputs": [
    {
     "name": "stdout",
     "output_type": "stream",
     "text": [
      "i=1  T(i)=4                    2**(i+i*(i+1)//2)=4\n",
      "i=2  T(i)=64                   2**(i+i*(i+1)//2)=32\n",
      "i=3  T(i)=1216                 2**(i+i*(i+1)//2)=512\n",
      "i=4  T(i)=39936                2**(i+i*(i+1)//2)=16384\n",
      "i=5  T(i)=2561024              2**(i+i*(i+1)//2)=1048576\n",
      "i=6  T(i)=327835648            2**(i+i*(i+1)//2)=134217728\n",
      "i=7  T(i)=83926040576          2**(i+i*(i+1)//2)=34359738368\n",
      "i=8  T(i)=42970133299200       2**(i+i*(i+1)//2)=17592186044416\n",
      "i=9  T(i)=44001416500740096    2**(i+i*(i+1)//2)=18014398509481984\n",
      "i=10 T(i)=90114900993526202368 2**(i+i*(i+1)//2)=36893488147419103232\n",
      "\n",
      "i=1  1.0\n",
      "i=2  2.0\n",
      "i=3  2.375\n",
      "i=4  2.4375\n",
      "i=5  2.4423828125\n",
      "i=6  2.44256591796875\n",
      "i=7  2.4425692558288574\n",
      "i=8  2.44256928563118\n",
      "i=9  2.442569285762147\n",
      "i=10 2.4425692857624313\n"
     ]
    }
   ],
   "source": [
    "def T(n):\n",
    "    if n == 1:\n",
    "        return 4\n",
    "    return (2 ** (n + 1)) * (T(n - 1) + n * (2 ** (n - 1)))\n",
    "\n",
    "\n",
    "def T2(n):\n",
    "    term = 2 ** (n + n * (n + 1) // 2)\n",
    "    for d in range(2, n + 1):\n",
    "        term += d * (2 ** (n + n * (n + 1) // 2 - d * (d - 1) // 2))\n",
    "    return term\n",
    "\n",
    "\n",
    "for i in range(1, 10 + 1):\n",
    "    print(f\"{i=:<2} {T(i)=:<20} {2**(i+i*(i+1)//2)=}\")\n",
    "    assert T(i) == T2(i)\n",
    "print()\n",
    "for i in range(1, 10 + 1):\n",
    "    print(f\"{i=:<2}\", T(i) / (2 ** (i + i * (i + 1) // 2)))"
   ]
  },
  {
   "cell_type": "code",
   "execution_count": 18,
   "metadata": {},
   "outputs": [
    {
     "name": "stdout",
     "output_type": "stream",
     "text": [
      "n=1  1+term1=1.0                 \n",
      "1.0\n",
      "1\n",
      "n=2  1+term1=2.0                 \n",
      "2.0\n",
      "2.0\n",
      "n=3  1+term1=2.375               \n",
      "2.75\n",
      "2.75\n",
      "n=4  1+term1=2.4375              \n",
      "3.25\n",
      "3.25\n",
      "n=5  1+term1=2.4423828125        \n",
      "3.5625\n",
      "3.5625\n",
      "n=6  1+term1=2.44256591796875    \n",
      "3.75\n",
      "3.75\n",
      "n=7  1+term1=2.4425692558288574  \n",
      "3.859375\n",
      "3.859375\n",
      "n=8  1+term1=2.44256928563118    \n",
      "3.921875\n",
      "3.921875\n",
      "n=9  1+term1=2.442569285762147   \n",
      "3.95703125\n",
      "3.95703125\n",
      "n=10 1+term1=2.4425692857624313  \n",
      "3.9765625\n",
      "3.9765625\n"
     ]
    }
   ],
   "source": [
    "for n in range(1, 10 + 1):\n",
    "    term1 = 0.0\n",
    "    term2 = 0.0\n",
    "    for d in range(2, n + 1):\n",
    "        t1 = d * (2 ** (-d * (d - 1) // 2))\n",
    "        t2 = d * (2 ** (-d + 1))\n",
    "        assert t1 <= t2\n",
    "        term1 += t1\n",
    "        term2 += t2\n",
    "    print(f\"{n=:<2} {1+term1=:<20}\")\n",
    "    print(1 + term2)\n",
    "    print(4 - (n + 2) * (2 ** (-n + 1)))"
   ]
  }
 ],
 "metadata": {
  "kernelspec": {
   "display_name": ".venv",
   "language": "python",
   "name": "python3"
  },
  "language_info": {
   "codemirror_mode": {
    "name": "ipython",
    "version": 3
   },
   "file_extension": ".py",
   "mimetype": "text/x-python",
   "name": "python",
   "nbconvert_exporter": "python",
   "pygments_lexer": "ipython3",
   "version": "3.10.4"
  }
 },
 "nbformat": 4,
 "nbformat_minor": 2
}
