{
 "cells": [
  {
   "cell_type": "markdown",
   "metadata": {},
   "source": [
    "# Column Generation\n"
   ]
  },
  {
   "cell_type": "code",
   "execution_count": 1,
   "metadata": {},
   "outputs": [],
   "source": [
    "import time\n",
    "\n",
    "from exputils.extent.cg import calculate_extent_CG\n",
    "from exputils.state.random_ket import make_random_quantum_state"
   ]
  },
  {
   "cell_type": "code",
   "execution_count": 2,
   "metadata": {},
   "outputs": [],
   "source": [
    "def CG_for_data(n: int):\n",
    "    seed = 0\n",
    "    kind = \"pure\"\n",
    "    print(f\"{n=}\")\n",
    "    psi = make_random_quantum_state(kind, n, seed)\n",
    "    t0 = time.perf_counter()\n",
    "    stabilizer_extent, extends, max_values, _ = calculate_extent_CG(\n",
    "        n, psi, verbose=False\n",
    "    )\n",
    "    t1 = time.perf_counter()\n",
    "    print(f\"{stabilizer_extent=} {t1-t0=}\")\n",
    "\n",
    "    with open(f\"../data/CG/{kind}_{n}_data.txt\", mode=\"w\") as f:\n",
    "        for i in range(len(extends)):\n",
    "            print(f\"{extends[i]} {max_values[i]}\", file=f)\n",
    "\n",
    "    with open(f\"../data/CG/{kind}_{n}_time.txt\", mode=\"w\") as f:\n",
    "        print(t1 - t0, file=f)"
   ]
  },
  {
   "cell_type": "markdown",
   "metadata": {},
   "source": [
    "## for the case $n<=8$ \n",
    "\n",
    "We assume the `MAX_VALUES_SIZE` be 10000."
   ]
  },
  {
   "cell_type": "code",
   "execution_count": 3,
   "metadata": {},
   "outputs": [],
   "source": [
    "# for n in [4, 5, 6, 7, 8]:\n",
    "#     CG_for_data(n)"
   ]
  },
  {
   "cell_type": "markdown",
   "metadata": {},
   "source": [
    "## for the case $n=9$\n",
    "\n",
    "We assume the `MAX_VALUES_SIZE` be 100000."
   ]
  },
  {
   "cell_type": "code",
   "execution_count": 4,
   "metadata": {},
   "outputs": [
    {
     "name": "stdout",
     "output_type": "stream",
     "text": [
      "n=9\n",
      "CG: n=9, method='mosek'\n",
      "start: calculate dots\n",
      "iteration: 1 / 100, Amat.shape = (512, 100000)\n",
      "start: solve SOCP\n",
      "stabilizer_extent=17.544989853248886\n",
      "start: calculate dual dots\n",
      "# of violations(LB): 330\n",
      "iteration: 2 / 100, Amat.shape = (512, 2013)\n",
      "start: solve SOCP\n",
      "stabilizer_extent=17.533160105624848\n",
      "start: calculate dual dots\n",
      "# of violations(LB): 794\n",
      "iteration: 3 / 100, Amat.shape = (512, 2457)\n",
      "start: solve SOCP\n",
      "stabilizer_extent=17.52335905552666\n",
      "start: calculate dual dots\n",
      "# of violations(LB): 351\n",
      "iteration: 4 / 100, Amat.shape = (512, 2028)\n",
      "start: solve SOCP\n",
      "stabilizer_extent=17.520037308629146\n",
      "start: calculate dual dots\n",
      "# of violations(LB): 226\n",
      "iteration: 5 / 100, Amat.shape = (512, 1893)\n",
      "start: solve SOCP\n",
      "stabilizer_extent=17.51873272081433\n",
      "start: calculate dual dots\n",
      "# of violations(LB): 118\n",
      "iteration: 6 / 100, Amat.shape = (512, 1785)\n",
      "start: solve SOCP\n",
      "stabilizer_extent=17.51824442062978\n",
      "start: calculate dual dots\n",
      "# of violations(LB): 92\n",
      "iteration: 7 / 100, Amat.shape = (512, 1758)\n",
      "start: solve SOCP\n",
      "stabilizer_extent=17.51804367513583\n",
      "start: calculate dual dots\n",
      "# of violations(LB): 53\n",
      "iteration: 8 / 100, Amat.shape = (512, 1748)\n",
      "start: solve SOCP\n",
      "stabilizer_extent=17.517970837689766\n",
      "start: calculate dual dots\n",
      "# of violations(LB): 17\n",
      "iteration: 9 / 100, Amat.shape = (512, 1698)\n",
      "start: solve SOCP\n",
      "stabilizer_extent=17.51796592711377\n",
      "start: calculate dual dots\n",
      "# of violations(LB): 6\n",
      "iteration: 10 / 100, Amat.shape = (512, 1703)\n",
      "start: solve SOCP\n",
      "stabilizer_extent=17.51796418138775\n",
      "start: calculate dual dots\n",
      "# of violations(LB): 3\n",
      "iteration: 11 / 100, Amat.shape = (512, 1704)\n",
      "start: solve SOCP\n",
      "stabilizer_extent=17.51796401710202\n",
      "start: calculate dual dots\n",
      "OPTIMAL!\n",
      "stabilizer_extent=17.51796401710202 t1-t0=69226.71807736531\n"
     ]
    }
   ],
   "source": [
    "for n in [9]:\n",
    "    CG_for_data(n)"
   ]
  }
 ],
 "metadata": {
  "kernelspec": {
   "display_name": "stabilizerExtent",
   "language": "python",
   "name": "python3"
  },
  "language_info": {
   "codemirror_mode": {
    "name": "ipython",
    "version": 3
   },
   "file_extension": ".py",
   "mimetype": "text/x-python",
   "name": "python",
   "nbconvert_exporter": "python",
   "pygments_lexer": "ipython3",
   "version": "3.11.5"
  }
 },
 "nbformat": 4,
 "nbformat_minor": 2
}
