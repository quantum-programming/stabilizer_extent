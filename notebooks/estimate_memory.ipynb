{
 "cells": [
  {
   "cell_type": "markdown",
   "metadata": {},
   "source": [
    "# Estimate Memory\n",
    "\n",
    "This notebook estimates the memory required to store the Amat in the Scipy csc_matrix format.\n",
    "\n",
    "The document about the csc_matrix format is [here](https://docs.scipy.org/doc/scipy/reference/generated/scipy.sparse.csc_matrix.html).\n",
    "\n",
    "Also, We can confirm how the data type of indices and indptr is determined by [this implementation code](https://github.com/scipy/scipy/blob/v1.11.2/scipy/sparse/_compressed.py#L36), and especially about the dtype, [this code](https://github.com/scipy/scipy/blob/main/scipy/sparse/_sputils.py#L147)\n"
   ]
  },
  {
   "cell_type": "code",
   "execution_count": 1,
   "metadata": {},
   "outputs": [
    {
     "name": "stdout",
     "output_type": "stream",
     "text": [
      "1 ok\n",
      "2 ok\n",
      "3 ok\n",
      "4 ok\n",
      "5 ok\n",
      "all test passes\n",
      " 4    8 MiB (8,225,284 B)\n",
      " 5 1011 MiB (1,059,886,084 B)\n",
      " 6  254 GiB (272,209,766,404 B)\n",
      " 7  153 TiB (167,771,952,691,208 B)\n",
      " 8  153 PiB (171,801,080,671,334,408 B)\n",
      " 9  305 EiB (351,849,950,188,283,289,608 B)\n",
      "10    1 YiB (1,441,178,767,705,906,944,000,008 B)\n"
     ]
    }
   ],
   "source": [
    "import numpy as np\n",
    "from exputils.Amat.get import get_Amat_sparse\n",
    "from exputils.stabilizer_group import total_stabilizer_group_size\n",
    "from exputils.math.q_binom import q_binomial\n",
    "\n",
    "\n",
    "def estimate_each_memory(n: int):\n",
    "    # https://github.com/scipy/scipy/blob/v1.11.2/scipy/sparse/_compressed.py#L36\n",
    "    M = 2**n\n",
    "    N = total_stabilizer_group_size(n)\n",
    "    max_val = max(M, N)\n",
    "\n",
    "    # https://github.com/scipy/scipy/blob/main/scipy/sparse/_sputils.py#L147\n",
    "    int32max = np.int32(np.iinfo(np.int32).max)\n",
    "    dtype = np.int32 if np.intc().itemsize == 4 else np.int64\n",
    "    if max_val > int32max:\n",
    "        dtype = np.int64\n",
    "    idx_dtype_size = 4 if dtype == np.int32 else 8\n",
    "    assert idx_dtype_size == 4 if n <= 6 else idx_dtype_size == 8\n",
    "\n",
    "    sz = N\n",
    "\n",
    "    # the number of non-zero elements are\n",
    "    # \\sum_{k=0}^{n} 2^k (2^{n+k*(k+1)/2}q_binom(n,k))\n",
    "    nnz = sum(\n",
    "        (2**k) * (q_binomial(n, k) * (1 << (n + k * (k + 1) // 2)))\n",
    "        for k in range(n + 1)\n",
    "    )\n",
    "\n",
    "    # 16 byte (np.complex128)\n",
    "    data_estimate = 16 * nnz\n",
    "\n",
    "    # 4 byte (np.int32) if max_val < 2**31 else 8 byte (np.int64)\n",
    "    indices_estimate = idx_dtype_size * nnz\n",
    "    indptr_estimate = idx_dtype_size * (sz + 1)\n",
    "\n",
    "    return (data_estimate, indices_estimate, indptr_estimate)\n",
    "\n",
    "\n",
    "def check_each_memory(n):\n",
    "    Amat = get_Amat_sparse(n)\n",
    "    return (Amat.data.nbytes, Amat.indices.nbytes, Amat.indptr.nbytes)\n",
    "\n",
    "\n",
    "# check the correctness\n",
    "for n in range(1, 5 + 1):\n",
    "    assert estimate_each_memory(n) == check_each_memory(n)\n",
    "    print(f\"{n} ok\")\n",
    "print(\"all test passes\")\n",
    "\n",
    "for n in range(1, 8 + 1):\n",
    "    if n <= 6:\n",
    "        assert total_stabilizer_group_size(n) < 2**31\n",
    "    else:\n",
    "        assert total_stabilizer_group_size(n) > 2**31\n",
    "\n",
    "\n",
    "# estimate the memory\n",
    "unit = [\"B\", \"KiB\", \"MiB\", \"GiB\", \"TiB\", \"PiB\", \"EiB\", \"ZiB\", \"YiB\"]\n",
    "for n in range(4, 10 + 1):\n",
    "    memory = sum(estimate_each_memory(n))\n",
    "    exponent = 0\n",
    "    tmp = memory\n",
    "    while tmp / 1024 >= 1:\n",
    "        tmp /= 1024\n",
    "        exponent += 1\n",
    "    print(f\"{n:>2} {round(tmp):>4} {unit[exponent]} ({memory:,} B)\")"
   ]
  },
  {
   "cell_type": "code",
   "execution_count": null,
   "metadata": {},
   "outputs": [],
   "source": []
  }
 ],
 "metadata": {
  "kernelspec": {
   "display_name": ".venv",
   "language": "python",
   "name": "python3"
  },
  "language_info": {
   "codemirror_mode": {
    "name": "ipython",
    "version": 3
   },
   "file_extension": ".py",
   "mimetype": "text/x-python",
   "name": "python",
   "nbconvert_exporter": "python",
   "pygments_lexer": "ipython3",
   "version": "3.10.4"
  },
  "orig_nbformat": 4
 },
 "nbformat": 4,
 "nbformat_minor": 2
}
