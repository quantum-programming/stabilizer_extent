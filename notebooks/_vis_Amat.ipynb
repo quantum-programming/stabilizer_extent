{
 "cells": [
  {
   "cell_type": "code",
   "execution_count": 1,
   "metadata": {},
   "outputs": [
    {
     "name": "stdout",
     "output_type": "stream",
     "text": [
      "0/+/+/+/+/,\n",
      "1/+/-/+/-/,\n",
      "2/+/+i/+/+i/,\n",
      "3/+/-i/+/-i/,\n",
      "4/+/+/+/-/,\n",
      "5/+/-/+/+/,\n",
      "6/+/+i/+/-i/,\n",
      "7/+/-i/+/+i/,\n",
      "8/+/+/-/-/,\n",
      "9/+/-/-/+/,\n",
      "10/+/+i/-/-i/,\n",
      "11/+/-i/-/+i/,\n",
      "12/+/+/-/+/,\n",
      "13/+/-/-/-/,\n",
      "14/+/+i/-/+i/,\n",
      "15/+/-i/-/-i/,\n",
      "16/+/+/+i/+i/,\n",
      "17/+/-/+i/-i/,\n",
      "18/+/+i/+i/-/,\n",
      "19/+/-i/+i/+/,\n",
      "20/+/+/+i/-i/,\n",
      "21/+/-/+i/+i/,\n",
      "22/+/+i/+i/+/,\n",
      "23/+/-i/+i/-/,\n",
      "24/+/+/-i/-i/,\n",
      "25/+/-/-i/+i/,\n",
      "26/+/+i/-i/+/,\n",
      "27/+/-i/-i/-/,\n",
      "28/+/+/-i/+i/,\n",
      "29/+/-/-i/-i/,\n",
      "30/+/+i/-i/-/,\n",
      "31/+/-i/-i/+/,\n"
     ]
    }
   ],
   "source": [
    "from exputils.dot.recovery_state import recovery_states_from_idxs\n",
    "\n",
    "Amat = recovery_states_from_idxs(2, list(range(28, 60)))\n",
    "for i in range(32):\n",
    "    col = Amat[:, i] * 2\n",
    "    # print(col)\n",
    "    print(i, end=\"/\")\n",
    "    for j in [0, 2, 1, 3]:\n",
    "        if col[j] == +1:\n",
    "            print(\"+\", end=\"/\")\n",
    "        elif col[j] == -1:\n",
    "            print(\"-\", end=\"/\")\n",
    "        elif col[j] == +1j:\n",
    "            print(\"+i\", end=\"/\")\n",
    "        elif col[j] == -1j:\n",
    "            print(\"-i\", end=\"/\")\n",
    "    print(\",\")"
   ]
  },
  {
   "cell_type": "code",
   "execution_count": null,
   "metadata": {},
   "outputs": [],
   "source": []
  }
 ],
 "metadata": {
  "kernelspec": {
   "display_name": ".venv",
   "language": "python",
   "name": "python3"
  },
  "language_info": {
   "codemirror_mode": {
    "name": "ipython",
    "version": 3
   },
   "file_extension": ".py",
   "mimetype": "text/x-python",
   "name": "python",
   "nbconvert_exporter": "python",
   "pygments_lexer": "ipython3",
   "version": "3.10.4"
  }
 },
 "nbformat": 4,
 "nbformat_minor": 2
}
