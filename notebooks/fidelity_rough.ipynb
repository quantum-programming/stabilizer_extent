{
 "cells": [
  {
   "cell_type": "markdown",
   "metadata": {},
   "source": [
    "# Fidelity Rough"
   ]
  },
  {
   "cell_type": "code",
   "execution_count": 3,
   "metadata": {},
   "outputs": [],
   "source": [
    "import numpy as np\n",
    "import matplotlib.pyplot as plt\n",
    "\n",
    "from exputils.dot.get_topK_Amat import get_topK_Amat\n",
    "from exputils.dot.get_rough_Amat import get_rough_Amat\n",
    "from exputils.state.random_ket import make_random_quantum_state"
   ]
  },
  {
   "cell_type": "code",
   "execution_count": 4,
   "metadata": {},
   "outputs": [
    {
     "name": "stdout",
     "output_type": "stream",
     "text": [
      "n=8\n",
      "[k|progress|range]: 1 | 1.30816e+05/4.17804e+13 | [0.20070, 0.20786] | 39[ms]\n",
      "[k|progress|range]: 2 | 2.22390e+07/4.17804e+13 | [0.24500, 0.26887] | 87[ms]\n",
      "[k|progress|range]: 3 | 1.61403e+09/4.17804e+13 | [0.27566, 0.29796] | 155[ms]\n",
      "[k|progress|range]: 4 | 5.42491e+10/4.17804e+13 | [0.30040, 0.31185] | 237[ms]\n",
      "[k|progress|range]: 5 | 8.69244e+11/4.17804e+13 | [0.31557, 0.32884] | 437[ms]\n",
      "[k|progress|range]: 6 | 6.66477e+12/4.17804e+13 | [0.32475, 0.33431] | 1192[ms]\n",
      "[k|progress|range]: 7 | 2.41882e+13/4.17804e+13 | [0.32576, 0.33431] | 4523[ms]\n",
      "[k|progress|range]: 8 | 4.17804e+13/4.17804e+13 | [0.32884, 0.34005] | 6733[ms]\n",
      " calculation time : 6733[ms]\n"
     ]
    }
   ],
   "source": [
    "n = 8\n",
    "seed = 0\n",
    "kind = \"pure\"\n",
    "print(f\"{n=}\")\n",
    "np.random.seed(seed)\n",
    "psi = make_random_quantum_state(kind, n, seed)\n",
    "\n",
    "AmatTrue = get_topK_Amat(n, psi, is_dual_mode=False, K=10, verbose=True)\n",
    "AmatRough = get_rough_Amat(n, psi, is_dual_mode=False, verbose=True)\n",
    "dotsTrue = AmatTrue.conjugate().T @ psi\n",
    "dotsRough = AmatRough.conjugate().T @ psi\n",
    "\n",
    "plt.hist([np.abs(dotsTrue), np.abs(dotsRough)], bins=100, label=[\"true\", \"rough\"])\n",
    "plt.legend()\n",
    "plt.show()"
   ]
  },
  {
   "cell_type": "code",
   "execution_count": null,
   "metadata": {},
   "outputs": [],
   "source": []
  }
 ],
 "metadata": {
  "kernelspec": {
   "display_name": ".venv",
   "language": "python",
   "name": "python3"
  },
  "language_info": {
   "codemirror_mode": {
    "name": "ipython",
    "version": 3
   },
   "file_extension": ".py",
   "mimetype": "text/x-python",
   "name": "python",
   "nbconvert_exporter": "python",
   "pygments_lexer": "ipython3",
   "version": "3.11.5"
  }
 },
 "nbformat": 4,
 "nbformat_minor": 2
}
