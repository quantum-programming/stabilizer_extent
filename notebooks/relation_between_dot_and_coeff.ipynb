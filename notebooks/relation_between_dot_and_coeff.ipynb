{
 "cells": [
  {
   "cell_type": "markdown",
   "metadata": {},
   "source": [
    "# relation between dot and coeff\n",
    "\n",
    "It is predicted that dot product is a good indicator for the importance of a stabilizer state in stabilizer extent.\n",
    "We check this hypothesis by comparing the dot product and the coefficient of the stabilizer state in the stabilizer extent.\n"
   ]
  },
  {
   "cell_type": "code",
   "execution_count": null,
   "metadata": {},
   "outputs": [],
   "source": [
    "from exputils.Amat import get_Amat"
   ]
  }
 ],
 "metadata": {
  "language_info": {
   "name": "python"
  }
 },
 "nbformat": 4,
 "nbformat_minor": 2
}
