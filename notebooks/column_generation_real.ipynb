{
 "cells": [
  {
   "cell_type": "markdown",
   "metadata": {},
   "source": [
    "# Column Generation Rough\n"
   ]
  },
  {
   "cell_type": "code",
   "execution_count": 1,
   "metadata": {},
   "outputs": [],
   "source": [
    "import matplotlib.pyplot as plt\n",
    "import numpy as np\n",
    "import seaborn as sns\n",
    "\n",
    "from exputils.extent.cg import calculate_extent_CG\n",
    "from exputils.state.random_ket import make_random_quantum_state"
   ]
  },
  {
   "cell_type": "code",
   "execution_count": 2,
   "metadata": {},
   "outputs": [],
   "source": [
    "sns.set_theme(\"paper\")\n",
    "rc = {\"mathtext.fontset\": \"stix\"}\n",
    "plt.rcParams.update(rc)\n",
    "\n",
    "\n",
    "def visualize_result(n_qubit, extends, max_values):\n",
    "    fig = plt.figure(figsize=(10, 5))\n",
    "    ax1 = plt.subplot(1, 2, 1)\n",
    "    ax2 = plt.subplot(1, 2, 2)\n",
    "    # plot extends to ax1 with seaborn\n",
    "    sns.lineplot(x=list(range(1, len(extends) + 1)), y=extends, ax=ax1, marker=\"o\")\n",
    "    ax1.set_xlabel(\"Iteration\", fontsize=30)\n",
    "    ax1.set_ylabel(\"Objective Value\", fontsize=30)\n",
    "    ax1.set_xticks(list(range(1, len(extends) + 1)))\n",
    "    sns.lineplot(\n",
    "        x=list(range(1, len(max_values) + 1)), y=max_values, ax=ax2, marker=\"o\"\n",
    "    )\n",
    "    ax2.set_xlabel(\"Iteration\", fontsize=30)\n",
    "    ax2.set_ylabel(\"Max Violation\", fontsize=30)\n",
    "    ax2.set_xticks(list(range(1, len(max_values) + 1)))\n",
    "    # fig.suptitle(\"(a)\" if n_qubit == 7 else \"(b)\", fontsize=25, y=0.85, x=0.05)\n",
    "    plt.tight_layout()\n",
    "    plt.savefig(f\"../image/CG_real_{n_qubit}.pdf\", bbox_inches=\"tight\")\n",
    "    plt.show()"
   ]
  },
  {
   "cell_type": "code",
   "execution_count": 4,
   "metadata": {},
   "outputs": [
    {
     "name": "stdout",
     "output_type": "stream",
     "text": [
      "n=10\n",
      "CG: n=10, method='mosek'\n",
      "start: calculate dots\n",
      "[k|progress|range]:  1 | 2.09613e+06/8.78768e+19 | [0.05298, 0.07746] | 1195[ms]\n"
     ]
    },
    {
     "ename": "KeyboardInterrupt",
     "evalue": "",
     "output_type": "error",
     "traceback": [
      "\u001b[1;31m---------------------------------------------------------------------------\u001b[0m",
      "\u001b[1;31mKeyboardInterrupt\u001b[0m                         Traceback (most recent call last)",
      "Cell \u001b[1;32mIn[4], line 12\u001b[0m\n\u001b[0;32m      9\u001b[0m \u001b[38;5;28;01massert\u001b[39;00m np\u001b[38;5;241m.\u001b[39misclose(np\u001b[38;5;241m.\u001b[39mlinalg\u001b[38;5;241m.\u001b[39mnorm(psi), \u001b[38;5;241m1.0\u001b[39m)\n\u001b[0;32m     11\u001b[0m t0 \u001b[38;5;241m=\u001b[39m time\u001b[38;5;241m.\u001b[39mperf_counter()\n\u001b[1;32m---> 12\u001b[0m stabilizer_extent, extends, max_values, _ \u001b[38;5;241m=\u001b[39m \u001b[43mcalculate_extent_CG\u001b[49m\u001b[43m(\u001b[49m\u001b[43mn\u001b[49m\u001b[43m,\u001b[49m\u001b[43m \u001b[49m\u001b[43mpsi\u001b[49m\u001b[43m)\u001b[49m\n\u001b[0;32m     13\u001b[0m t1 \u001b[38;5;241m=\u001b[39m time\u001b[38;5;241m.\u001b[39mperf_counter()\n\u001b[0;32m     14\u001b[0m \u001b[38;5;28mprint\u001b[39m(\u001b[38;5;124mf\u001b[39m\u001b[38;5;124m\"\u001b[39m\u001b[38;5;132;01m{\u001b[39;00mstabilizer_extent\u001b[38;5;132;01m=}\u001b[39;00m\u001b[38;5;124m \u001b[39m\u001b[38;5;132;01m{\u001b[39;00mt1\u001b[38;5;241m-\u001b[39mt0\u001b[38;5;132;01m=}\u001b[39;00m\u001b[38;5;124m\"\u001b[39m)\n",
      "File \u001b[1;32mc:\\users\\hirok\\documents\\parttimejob\\quantum\\stabilizer_extent\\exputils\\extent\\cg.py:14\u001b[0m, in \u001b[0;36mcalculate_extent_CG\u001b[1;34m(n, psi, method, verbose)\u001b[0m\n\u001b[0;32m     12\u001b[0m \u001b[38;5;28mprint\u001b[39m(\u001b[38;5;124m\"\u001b[39m\u001b[38;5;124mstart: calculate dots\u001b[39m\u001b[38;5;124m\"\u001b[39m)\n\u001b[0;32m     13\u001b[0m K \u001b[38;5;241m=\u001b[39m \u001b[38;5;241m10000\u001b[39m \u001b[38;5;28;01mif\u001b[39;00m n \u001b[38;5;241m<\u001b[39m\u001b[38;5;241m=\u001b[39m \u001b[38;5;241m8\u001b[39m \u001b[38;5;28;01melse\u001b[39;00m \u001b[38;5;241m100000\u001b[39m\n\u001b[1;32m---> 14\u001b[0m current_Amat \u001b[38;5;241m=\u001b[39m \u001b[43mget_topK_Amat\u001b[49m\u001b[43m(\u001b[49m\u001b[43mn\u001b[49m\u001b[43m,\u001b[49m\u001b[43m \u001b[49m\u001b[43mpsi\u001b[49m\u001b[43m,\u001b[49m\u001b[43m \u001b[49m\u001b[38;5;28;43;01mFalse\u001b[39;49;00m\u001b[43m,\u001b[49m\u001b[43m \u001b[49m\u001b[43mK\u001b[49m\u001b[43m,\u001b[49m\u001b[43m \u001b[49m\u001b[38;5;28;43;01mTrue\u001b[39;49;00m\u001b[43m)\u001b[49m\n\u001b[0;32m     15\u001b[0m iter_max \u001b[38;5;241m=\u001b[39m \u001b[38;5;241m30\u001b[39m\n\u001b[0;32m     16\u001b[0m eps \u001b[38;5;241m=\u001b[39m \u001b[38;5;241m1e-8\u001b[39m\n",
      "File \u001b[1;32mc:\\users\\hirok\\documents\\parttimejob\\quantum\\stabilizer_extent\\exputils\\dot\\get_topK_Amat.py:25\u001b[0m, in \u001b[0;36mget_topK_Amat\u001b[1;34m(n, psi, is_dual_mode, K, verbose)\u001b[0m\n\u001b[0;32m     23\u001b[0m     \u001b[38;5;28;01mif\u001b[39;00m verbose:\n\u001b[0;32m     24\u001b[0m         \u001b[38;5;28;01mfor\u001b[39;00m line \u001b[38;5;129;01min\u001b[39;00m p\u001b[38;5;241m.\u001b[39mstderr:\n\u001b[1;32m---> 25\u001b[0m             \u001b[38;5;28mprint\u001b[39m(\u001b[43mline\u001b[49m\u001b[38;5;241;43m.\u001b[39;49m\u001b[43mdecode\u001b[49m\u001b[43m(\u001b[49m\u001b[38;5;124;43m\"\u001b[39;49m\u001b[38;5;124;43mutf-8\u001b[39;49m\u001b[38;5;124;43m\"\u001b[39;49m\u001b[43m,\u001b[49m\u001b[43m \u001b[49m\u001b[43merrors\u001b[49m\u001b[38;5;241;43m=\u001b[39;49m\u001b[38;5;124;43m\"\u001b[39;49m\u001b[38;5;124;43mignore\u001b[39;49m\u001b[38;5;124;43m\"\u001b[39;49m\u001b[43m)\u001b[49m, end\u001b[38;5;241m=\u001b[39m\u001b[38;5;124m\"\u001b[39m\u001b[38;5;124m\"\u001b[39m)\n\u001b[0;32m     26\u001b[0m     p\u001b[38;5;241m.\u001b[39mwait()\n\u001b[0;32m     27\u001b[0m \u001b[38;5;28;01massert\u001b[39;00m p\u001b[38;5;241m.\u001b[39mreturncode \u001b[38;5;241m==\u001b[39m \u001b[38;5;241m0\u001b[39m, \u001b[38;5;124mf\u001b[39m\u001b[38;5;124m\"\u001b[39m\u001b[38;5;124merror in C++ code: \u001b[39m\u001b[38;5;132;01m{\u001b[39;00mp\u001b[38;5;241m.\u001b[39mreturncode\u001b[38;5;132;01m=}\u001b[39;00m\u001b[38;5;124m\"\u001b[39m\n",
      "\u001b[1;31mKeyboardInterrupt\u001b[0m: "
     ]
    }
   ],
   "source": [
    "import time\n",
    "\n",
    "n = 10\n",
    "seed = 0\n",
    "kind = \"real\"\n",
    "print(f\"{n=}\")\n",
    "\n",
    "psi = make_random_quantum_state(kind, n, seed)\n",
    "assert np.isclose(np.linalg.norm(psi), 1.0)\n",
    "\n",
    "t0 = time.perf_counter()\n",
    "stabilizer_extent, extends, max_values, _ = calculate_extent_CG(n, psi)\n",
    "t1 = time.perf_counter()\n",
    "print(f\"{stabilizer_extent=} {t1-t0=}\")\n",
    "\n",
    "with open(f\"../data/CG_real/{kind}_{n}_data.txt\", mode=\"w\") as f:\n",
    "    for i in range(len(extends)):\n",
    "        print(f\"{extends[i]} {max_values[i]}\", file=f)\n",
    "\n",
    "with open(f\"../data/CG_real/{kind}_{n}_time.txt\", mode=\"w\") as f:\n",
    "    print(t1 - t0, file=f)\n",
    "\n",
    "visualize_result(n, extends, max_values)"
   ]
  },
  {
   "cell_type": "code",
   "execution_count": null,
   "metadata": {},
   "outputs": [],
   "source": []
  }
 ],
 "metadata": {
  "kernelspec": {
   "display_name": "stabilizerExtent",
   "language": "python",
   "name": "python3"
  },
  "language_info": {
   "codemirror_mode": {
    "name": "ipython",
    "version": 3
   },
   "file_extension": ".py",
   "mimetype": "text/x-python",
   "name": "python",
   "nbconvert_exporter": "python",
   "pygments_lexer": "ipython3",
   "version": "3.10.4"
  }
 },
 "nbformat": 4,
 "nbformat_minor": 2
}
