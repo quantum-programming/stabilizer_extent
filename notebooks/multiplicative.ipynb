{
 "cells": [
  {
   "cell_type": "markdown",
   "metadata": {},
   "source": [
    "# multiplicative"
   ]
  },
  {
   "cell_type": "code",
   "execution_count": 1,
   "metadata": {},
   "outputs": [],
   "source": [
    "import numpy as np\n",
    "\n",
    "from exputils.extent.cg import calculate_extent_CG\n",
    "from exputils.state.random_ket import make_random_quantum_state"
   ]
  },
  {
   "cell_type": "code",
   "execution_count": 2,
   "metadata": {},
   "outputs": [
    {
     "name": "stdout",
     "output_type": "stream",
     "text": [
      "n=1\n",
      "stabilizer_extent1*stabilizer_extent2=1.452795832878709\n",
      "stabilizer_extent12=1.452795834562958\n",
      "n=2\n",
      "stabilizer_extent1*stabilizer_extent2=2.341258369045224\n",
      "stabilizer_extent12=2.3412582497149295\n",
      "n=3\n",
      "stabilizer_extent1*stabilizer_extent2=3.104047038919777\n",
      "stabilizer_extent12=3.1040470262423847\n"
     ]
    }
   ],
   "source": [
    "for n in range(1, 3 + 1):\n",
    "    print(f\"{n=}\")\n",
    "    psi1 = make_random_quantum_state(\"pure\", n, 0)\n",
    "    stabilizer_extent1 = calculate_extent_CG(n, psi1)[0]\n",
    "    psi2 = make_random_quantum_state(\"pure\", n, 0)\n",
    "    stabilizer_extent2 = calculate_extent_CG(n, psi2)[0]\n",
    "    print(f\"{stabilizer_extent1*stabilizer_extent2=}\", flush=True)\n",
    "    stabilizer_extent12 = calculate_extent_CG(2 * n, np.kron(psi1, psi2))[0]\n",
    "    print(f\"{stabilizer_extent12=}\", flush=True)"
   ]
  },
  {
   "cell_type": "code",
   "execution_count": 4,
   "metadata": {},
   "outputs": [
    {
     "name": "stdout",
     "output_type": "stream",
     "text": [
      "stabilizer_extent1*stabilizer_extent2=6.299887106978725\n",
      "[k|progress|range]: 1 | 1.30816e+05/4.17804e+13 | [nan, nan] | 12[ms]\n",
      "[k|progress|range]: 2 | 2.22390e+07/4.17804e+13 | [nan, nan] | 188[ms]\n",
      "[k|progress|range]: 3 | 1.61403e+09/4.17804e+13 | [nan, nan] | 813[ms]\n",
      "[k|progress|range]: 4 | 5.42491e+10/4.17804e+13 | [nan, nan] | 1523[ms]\n",
      "[k|progress|range]: 5 | 8.69244e+11/4.17804e+13 | [nan, nan] | 1847[ms]\n",
      "[k|progress|range]: 6 | 6.66477e+12/4.17804e+13 | [nan, nan] | 2327[ms]\n",
      "[k|progress|range]: 7 | 2.41882e+13/4.17804e+13 | [nan, nan] | 4660[ms]\n",
      "[k|progress|range]: 8 | 4.17804e+13/4.17804e+13 | [nan, nan] | 6040[ms]\n",
      " calculation time : 6040[ms]\n",
      "branch cut / total: 40114373508288/41780418451200\n",
      "stabilizer_extent1*stabilizer_extent2=6.42432538318028\n",
      "[k|progress|range]: 1 | 1.30816e+05/4.17804e+13 | [nan, nan] | 23[ms]\n",
      "[k|progress|range]: 2 | 2.22390e+07/4.17804e+13 | [nan, nan] | 199[ms]\n",
      "[k|progress|range]: 3 | 1.61403e+09/4.17804e+13 | [nan, nan] | 718[ms]\n",
      "[k|progress|range]: 4 | 5.42491e+10/4.17804e+13 | [nan, nan] | 1405[ms]\n",
      "[k|progress|range]: 5 | 8.69244e+11/4.17804e+13 | [nan, nan] | 1668[ms]\n",
      "[k|progress|range]: 6 | 6.66477e+12/4.17804e+13 | [nan, nan] | 2892[ms]\n",
      "[k|progress|range]: 7 | 2.41882e+13/4.17804e+13 | [nan, nan] | 6452[ms]\n",
      "[k|progress|range]: 8 | 4.17804e+13/4.17804e+13 | [nan, nan] | 9437[ms]\n",
      " calculation time : 9437[ms]\n",
      "branch cut / total: 41393468422496/41780418451200\n",
      "stabilizer_extent1*stabilizer_extent2=6.378808460687831\n",
      "[k|progress|range]: 1 | 1.30816e+05/4.17804e+13 | [nan, nan] | 11[ms]\n",
      "[k|progress|range]: 2 | 2.22390e+07/4.17804e+13 | [nan, nan] | 160[ms]\n",
      "[k|progress|range]: 3 | 1.61403e+09/4.17804e+13 | [nan, nan] | 663[ms]\n",
      "[k|progress|range]: 4 | 5.42491e+10/4.17804e+13 | [nan, nan] | 1322[ms]\n",
      "[k|progress|range]: 5 | 8.69244e+11/4.17804e+13 | [nan, nan] | 1562[ms]\n",
      "[k|progress|range]: 6 | 6.66477e+12/4.17804e+13 | [nan, nan] | 2148[ms]\n",
      "[k|progress|range]: 7 | 2.41882e+13/4.17804e+13 | [nan, nan] | 5456[ms]\n",
      "[k|progress|range]: 8 | 4.17804e+13/4.17804e+13 | [nan, nan] | 7451[ms]\n",
      " calculation time : 7451[ms]\n",
      "branch cut / total: 41248244951104/41780418451200\n",
      "stabilizer_extent1*stabilizer_extent2=6.338041046865146\n",
      "[k|progress|range]: 1 | 1.30816e+05/4.17804e+13 | [nan, nan] | 16[ms]\n",
      "[k|progress|range]: 2 | 2.22390e+07/4.17804e+13 | [nan, nan] | 178[ms]\n",
      "[k|progress|range]: 3 | 1.61403e+09/4.17804e+13 | [nan, nan] | 681[ms]\n",
      "[k|progress|range]: 4 | 5.42491e+10/4.17804e+13 | [nan, nan] | 1322[ms]\n",
      "[k|progress|range]: 5 | 8.69244e+11/4.17804e+13 | [nan, nan] | 1548[ms]\n",
      "[k|progress|range]: 6 | 6.66477e+12/4.17804e+13 | [nan, nan] | 1839[ms]\n",
      "[k|progress|range]: 7 | 2.41882e+13/4.17804e+13 | [nan, nan] | 3997[ms]\n",
      "[k|progress|range]: 8 | 4.17804e+13/4.17804e+13 | [nan, nan] | 4763[ms]\n",
      " calculation time : 4763[ms]\n",
      "branch cut / total: 40487096213056/41780418451200\n"
     ]
    },
    {
     "ename": "KeyboardInterrupt",
     "evalue": "",
     "output_type": "error",
     "traceback": [
      "\u001b[1;31m---------------------------------------------------------------------------\u001b[0m",
      "\u001b[1;31mKeyboardInterrupt\u001b[0m                         Traceback (most recent call last)",
      "\u001b[1;32m~\\AppData\\Local\\Temp\\ipykernel_19144\\4148255407.py\u001b[0m in \u001b[0;36m?\u001b[1;34m()\u001b[0m\n\u001b[0;32m      4\u001b[0m \u001b[1;32mfor\u001b[0m \u001b[0mseed\u001b[0m \u001b[1;32min\u001b[0m \u001b[0mrange\u001b[0m\u001b[1;33m(\u001b[0m\u001b[1;36m10\u001b[0m\u001b[1;33m)\u001b[0m\u001b[1;33m:\u001b[0m\u001b[1;33m\u001b[0m\u001b[1;33m\u001b[0m\u001b[0m\n\u001b[0;32m      5\u001b[0m     \u001b[0mpsi1\u001b[0m \u001b[1;33m=\u001b[0m \u001b[0mmake_random_quantum_state\u001b[0m\u001b[1;33m(\u001b[0m\u001b[1;34m\"pure\"\u001b[0m\u001b[1;33m,\u001b[0m \u001b[0mn\u001b[0m\u001b[1;33m,\u001b[0m \u001b[0mseed\u001b[0m\u001b[1;33m=\u001b[0m\u001b[1;36m2\u001b[0m \u001b[1;33m*\u001b[0m \u001b[0mseed\u001b[0m \u001b[1;33m+\u001b[0m \u001b[1;36m0\u001b[0m\u001b[1;33m)\u001b[0m\u001b[1;33m\u001b[0m\u001b[1;33m\u001b[0m\u001b[0m\n\u001b[0;32m      6\u001b[0m     \u001b[0mstabilizer_extent1\u001b[0m\u001b[1;33m,\u001b[0m \u001b[0m_\u001b[0m\u001b[1;33m,\u001b[0m \u001b[0m_\u001b[0m\u001b[1;33m,\u001b[0m \u001b[0mdual1\u001b[0m \u001b[1;33m=\u001b[0m \u001b[0mcalculate_extent_CG\u001b[0m\u001b[1;33m(\u001b[0m\u001b[0mn\u001b[0m\u001b[1;33m,\u001b[0m \u001b[0mpsi1\u001b[0m\u001b[1;33m)\u001b[0m\u001b[1;33m\u001b[0m\u001b[1;33m\u001b[0m\u001b[0m\n\u001b[0;32m      7\u001b[0m     \u001b[0mpsi2\u001b[0m \u001b[1;33m=\u001b[0m \u001b[0mmake_random_quantum_state\u001b[0m\u001b[1;33m(\u001b[0m\u001b[1;34m\"pure\"\u001b[0m\u001b[1;33m,\u001b[0m \u001b[0mn\u001b[0m\u001b[1;33m,\u001b[0m \u001b[0mseed\u001b[0m\u001b[1;33m=\u001b[0m\u001b[1;36m2\u001b[0m \u001b[1;33m*\u001b[0m \u001b[0mseed\u001b[0m \u001b[1;33m+\u001b[0m \u001b[1;36m1\u001b[0m\u001b[1;33m)\u001b[0m\u001b[1;33m\u001b[0m\u001b[1;33m\u001b[0m\u001b[0m\n\u001b[1;32m----> 8\u001b[1;33m     \u001b[0mstabilizer_extent2\u001b[0m\u001b[1;33m,\u001b[0m \u001b[0m_\u001b[0m\u001b[1;33m,\u001b[0m \u001b[0m_\u001b[0m\u001b[1;33m,\u001b[0m \u001b[0mdual2\u001b[0m \u001b[1;33m=\u001b[0m \u001b[0mcalculate_extent_CG\u001b[0m\u001b[1;33m(\u001b[0m\u001b[0mn\u001b[0m\u001b[1;33m,\u001b[0m \u001b[0mpsi2\u001b[0m\u001b[1;33m)\u001b[0m\u001b[1;33m\u001b[0m\u001b[1;33m\u001b[0m\u001b[0m\n\u001b[0m\u001b[0;32m      9\u001b[0m     \u001b[0mprint\u001b[0m\u001b[1;33m(\u001b[0m\u001b[1;34mf\"{stabilizer_extent1*stabilizer_extent2=}\"\u001b[0m\u001b[1;33m,\u001b[0m \u001b[0mflush\u001b[0m\u001b[1;33m=\u001b[0m\u001b[1;32mTrue\u001b[0m\u001b[1;33m)\u001b[0m\u001b[1;33m\u001b[0m\u001b[1;33m\u001b[0m\u001b[0m\n\u001b[0;32m     10\u001b[0m     \u001b[0mdual12\u001b[0m \u001b[1;33m=\u001b[0m \u001b[0mnp\u001b[0m\u001b[1;33m.\u001b[0m\u001b[0mkron\u001b[0m\u001b[1;33m(\u001b[0m\u001b[0mdual1\u001b[0m\u001b[1;33m,\u001b[0m \u001b[0mdual2\u001b[0m\u001b[1;33m)\u001b[0m\u001b[1;33m\u001b[0m\u001b[1;33m\u001b[0m\u001b[0m\n\u001b[0;32m     11\u001b[0m     \u001b[0mviolated12\u001b[0m \u001b[1;33m=\u001b[0m \u001b[0mget_topK_Amat\u001b[0m\u001b[1;33m(\u001b[0m\u001b[1;36m2\u001b[0m \u001b[1;33m*\u001b[0m \u001b[0mn\u001b[0m\u001b[1;33m,\u001b[0m \u001b[0mdual12\u001b[0m\u001b[1;33m,\u001b[0m \u001b[0mis_dual_mode\u001b[0m\u001b[1;33m=\u001b[0m\u001b[1;32mTrue\u001b[0m\u001b[1;33m,\u001b[0m \u001b[0mverbose\u001b[0m\u001b[1;33m=\u001b[0m\u001b[1;32mTrue\u001b[0m\u001b[1;33m)\u001b[0m\u001b[1;33m\u001b[0m\u001b[1;33m\u001b[0m\u001b[0m\n",
      "\u001b[1;32mc:\\users\\hirok\\documents\\parttimejob\\quantum\\stabilizer_extent\\exputils\\extent\\cg.py\u001b[0m in \u001b[0;36m?\u001b[1;34m(n, psi, method, Amat_method, verbose)\u001b[0m\n\u001b[0;32m     25\u001b[0m             print(\n\u001b[0;32m     26\u001b[0m                 \u001b[1;34mf\"iteration: {it + 1} / {iter_max}, Amat.shape = {current_Amat.shape}\"\u001b[0m\u001b[1;33m\u001b[0m\u001b[1;33m\u001b[0m\u001b[0m\n\u001b[0;32m     27\u001b[0m             )\n\u001b[0;32m     28\u001b[0m             \u001b[0mprint\u001b[0m\u001b[1;33m(\u001b[0m\u001b[1;34m\"start: solve SOCP\"\u001b[0m\u001b[1;33m)\u001b[0m\u001b[1;33m\u001b[0m\u001b[1;33m\u001b[0m\u001b[0m\n\u001b[1;32m---> 29\u001b[1;33m         stabilizer_extent, coeff, dual = calculate_extent_custom(\n\u001b[0m\u001b[0;32m     30\u001b[0m             \u001b[0mn\u001b[0m\u001b[1;33m,\u001b[0m \u001b[0mcurrent_Amat\u001b[0m\u001b[1;33m,\u001b[0m \u001b[0mpsi\u001b[0m\u001b[1;33m,\u001b[0m \u001b[0mmethod\u001b[0m\u001b[1;33m,\u001b[0m \u001b[0mverbose\u001b[0m\u001b[1;33m=\u001b[0m\u001b[0mverbose\u001b[0m\u001b[1;33m\u001b[0m\u001b[1;33m\u001b[0m\u001b[0m\n\u001b[0;32m     31\u001b[0m         )\n\u001b[0;32m     32\u001b[0m         \u001b[0mextends\u001b[0m\u001b[1;33m.\u001b[0m\u001b[0mappend\u001b[0m\u001b[1;33m(\u001b[0m\u001b[0mstabilizer_extent\u001b[0m\u001b[1;33m)\u001b[0m\u001b[1;33m\u001b[0m\u001b[1;33m\u001b[0m\u001b[0m\n",
      "\u001b[1;32mc:\\users\\hirok\\documents\\parttimejob\\quantum\\stabilizer_extent\\exputils\\extent\\custom.py\u001b[0m in \u001b[0;36m?\u001b[1;34m(n, Amat, psi, method, verbose)\u001b[0m\n\u001b[0;32m    216\u001b[0m     \u001b[1;32massert\u001b[0m \u001b[0mmethod\u001b[0m \u001b[1;32min\u001b[0m \u001b[1;33m[\u001b[0m\u001b[1;34m\"cvx\"\u001b[0m\u001b[1;33m,\u001b[0m \u001b[1;34m\"mosek\"\u001b[0m\u001b[1;33m,\u001b[0m \u001b[1;34m\"gurobi\"\u001b[0m\u001b[1;33m]\u001b[0m\u001b[1;33m\u001b[0m\u001b[1;33m\u001b[0m\u001b[0m\n\u001b[0;32m    217\u001b[0m     \u001b[1;32mif\u001b[0m \u001b[0mmethod\u001b[0m \u001b[1;33m==\u001b[0m \u001b[1;34m\"cvx\"\u001b[0m\u001b[1;33m:\u001b[0m\u001b[1;33m\u001b[0m\u001b[1;33m\u001b[0m\u001b[0m\n\u001b[0;32m    218\u001b[0m         \u001b[1;32mreturn\u001b[0m \u001b[0m_calculate_by_cvx\u001b[0m\u001b[1;33m(\u001b[0m\u001b[0mn\u001b[0m\u001b[1;33m,\u001b[0m \u001b[0mAmat\u001b[0m\u001b[1;33m.\u001b[0m\u001b[0mtoarray\u001b[0m\u001b[1;33m(\u001b[0m\u001b[1;33m)\u001b[0m\u001b[1;33m,\u001b[0m \u001b[0mpsi\u001b[0m\u001b[1;33m,\u001b[0m \u001b[0mverbose\u001b[0m\u001b[1;33m)\u001b[0m\u001b[1;33m\u001b[0m\u001b[1;33m\u001b[0m\u001b[0m\n\u001b[0;32m    219\u001b[0m     \u001b[1;32melif\u001b[0m \u001b[0mmethod\u001b[0m \u001b[1;33m==\u001b[0m \u001b[1;34m\"mosek\"\u001b[0m\u001b[1;33m:\u001b[0m\u001b[1;33m\u001b[0m\u001b[1;33m\u001b[0m\u001b[0m\n\u001b[1;32m--> 220\u001b[1;33m         \u001b[1;32mreturn\u001b[0m \u001b[0m_calculate_by_mosek\u001b[0m\u001b[1;33m(\u001b[0m\u001b[0mn\u001b[0m\u001b[1;33m,\u001b[0m \u001b[0mAmat\u001b[0m\u001b[1;33m,\u001b[0m \u001b[0mpsi\u001b[0m\u001b[1;33m,\u001b[0m \u001b[0mverbose\u001b[0m\u001b[1;33m)\u001b[0m\u001b[1;33m\u001b[0m\u001b[1;33m\u001b[0m\u001b[0m\n\u001b[0m\u001b[0;32m    221\u001b[0m     \u001b[1;32melse\u001b[0m\u001b[1;33m:\u001b[0m\u001b[1;33m\u001b[0m\u001b[1;33m\u001b[0m\u001b[0m\n\u001b[0;32m    222\u001b[0m         \u001b[1;32mreturn\u001b[0m \u001b[0m_calculate_by_gurobi\u001b[0m\u001b[1;33m(\u001b[0m\u001b[0mn\u001b[0m\u001b[1;33m,\u001b[0m \u001b[0mAmat\u001b[0m\u001b[1;33m,\u001b[0m \u001b[0mpsi\u001b[0m\u001b[1;33m,\u001b[0m \u001b[0mverbose\u001b[0m\u001b[1;33m)\u001b[0m\u001b[1;33m\u001b[0m\u001b[1;33m\u001b[0m\u001b[0m\n",
      "\u001b[1;32mc:\\users\\hirok\\documents\\parttimejob\\quantum\\stabilizer_extent\\exputils\\extent\\custom.py\u001b[0m in \u001b[0;36m?\u001b[1;34m(n, Amat, psi, verbose)\u001b[0m\n\u001b[0;32m    126\u001b[0m         \u001b[1;31m# Input the objective sense (minimize/maximize)\u001b[0m\u001b[1;33m\u001b[0m\u001b[1;33m\u001b[0m\u001b[0m\n\u001b[0;32m    127\u001b[0m         \u001b[0mtask\u001b[0m\u001b[1;33m.\u001b[0m\u001b[0mputobjsense\u001b[0m\u001b[1;33m(\u001b[0m\u001b[0mmosek\u001b[0m\u001b[1;33m.\u001b[0m\u001b[0mobjsense\u001b[0m\u001b[1;33m.\u001b[0m\u001b[0mminimize\u001b[0m\u001b[1;33m)\u001b[0m\u001b[1;33m\u001b[0m\u001b[1;33m\u001b[0m\u001b[0m\n\u001b[0;32m    128\u001b[0m \u001b[1;33m\u001b[0m\u001b[0m\n\u001b[0;32m    129\u001b[0m         \u001b[1;31m# Optimize the task\u001b[0m\u001b[1;33m\u001b[0m\u001b[1;33m\u001b[0m\u001b[0m\n\u001b[1;32m--> 130\u001b[1;33m         \u001b[0mtask\u001b[0m\u001b[1;33m.\u001b[0m\u001b[0moptimize\u001b[0m\u001b[1;33m(\u001b[0m\u001b[1;33m)\u001b[0m\u001b[1;33m\u001b[0m\u001b[1;33m\u001b[0m\u001b[0m\n\u001b[0m\u001b[0;32m    131\u001b[0m         \u001b[1;31m# task.writedata(\"cqo1.ptf\")\u001b[0m\u001b[1;33m\u001b[0m\u001b[1;33m\u001b[0m\u001b[0m\n\u001b[0;32m    132\u001b[0m         \u001b[1;31m# Print a summary containing information\u001b[0m\u001b[1;33m\u001b[0m\u001b[1;33m\u001b[0m\u001b[0m\n\u001b[0;32m    133\u001b[0m         \u001b[1;31m# about the solution for debugging purposes\u001b[0m\u001b[1;33m\u001b[0m\u001b[1;33m\u001b[0m\u001b[0m\n",
      "\u001b[1;32mc:\\Users\\hirok\\Documents\\PartTimeJob\\quantum\\stabilizer_extent\\.venv\\lib\\site-packages\\mosek\\__init__.py\u001b[0m in \u001b[0;36m?\u001b[1;34m(self, *args, **kwds)\u001b[0m\n\u001b[0;32m  10777\u001b[0m \u001b[1;33m\u001b[0m\u001b[0m\n\u001b[0;32m  10778\u001b[0m       \u001b[0moptimize\u001b[0m\u001b[1;33m(\u001b[0m\u001b[1;33m)\u001b[0m \u001b[1;33m->\u001b[0m \u001b[1;33m(\u001b[0m\u001b[0mtrmcode\u001b[0m\u001b[1;33m)\u001b[0m\u001b[1;33m\u001b[0m\u001b[1;33m\u001b[0m\u001b[0m\n\u001b[0;32m  10779\u001b[0m         \u001b[1;33m[\u001b[0m\u001b[0mtrmcode\u001b[0m \u001b[1;33m:\u001b[0m \u001b[0mmosek\u001b[0m\u001b[1;33m.\u001b[0m\u001b[0mrescode\u001b[0m\u001b[1;33m]\u001b[0m  \u001b[0mIs\u001b[0m \u001b[0meither\u001b[0m \u001b[0mOK\u001b[0m \u001b[1;32mor\u001b[0m \u001b[0ma\u001b[0m \u001b[0mtermination\u001b[0m \u001b[0mresponse\u001b[0m \u001b[0mcode\u001b[0m\u001b[1;33m.\u001b[0m\u001b[1;33m\u001b[0m\u001b[1;33m\u001b[0m\u001b[0m\n\u001b[0;32m  10780\u001b[0m       \"\"\"\n\u001b[1;32m> 10781\u001b[1;33m       \u001b[1;32mreturn\u001b[0m \u001b[0mself\u001b[0m\u001b[1;33m.\u001b[0m\u001b[0m__optimizetrm__1\u001b[0m\u001b[1;33m(\u001b[0m\u001b[1;33m*\u001b[0m\u001b[0margs\u001b[0m\u001b[1;33m,\u001b[0m\u001b[1;33m**\u001b[0m\u001b[0mkwds\u001b[0m\u001b[1;33m)\u001b[0m\u001b[1;33m\u001b[0m\u001b[1;33m\u001b[0m\u001b[0m\n\u001b[0m",
      "\u001b[1;32mc:\\Users\\hirok\\Documents\\PartTimeJob\\quantum\\stabilizer_extent\\.venv\\lib\\site-packages\\mosek\\__init__.py\u001b[0m in \u001b[0;36m?\u001b[1;34m(self)\u001b[0m\n\u001b[0;32m  10766\u001b[0m     \u001b[1;32mdef\u001b[0m \u001b[0m__optimizetrm__1\u001b[0m\u001b[1;33m(\u001b[0m\u001b[0mself\u001b[0m\u001b[1;33m)\u001b[0m\u001b[1;33m:\u001b[0m\u001b[1;33m\u001b[0m\u001b[1;33m\u001b[0m\u001b[0m\n\u001b[1;32m> 10767\u001b[1;33m       \u001b[0m_res_optimizetrm\u001b[0m\u001b[1;33m,\u001b[0m\u001b[0m_retargs_optimizetrm\u001b[0m \u001b[1;33m=\u001b[0m \u001b[0mself\u001b[0m\u001b[1;33m.\u001b[0m\u001b[0m__obj\u001b[0m\u001b[1;33m.\u001b[0m\u001b[0moptimizetrm__1\u001b[0m\u001b[1;33m(\u001b[0m\u001b[1;33m)\u001b[0m\u001b[1;33m\u001b[0m\u001b[1;33m\u001b[0m\u001b[0m\n\u001b[0m\u001b[0;32m  10768\u001b[0m       \u001b[1;32mif\u001b[0m \u001b[0m_res_optimizetrm\u001b[0m \u001b[1;33m!=\u001b[0m \u001b[1;36m0\u001b[0m\u001b[1;33m:\u001b[0m\u001b[1;33m\u001b[0m\u001b[1;33m\u001b[0m\u001b[0m\n\u001b[0;32m  10769\u001b[0m         \u001b[0m_\u001b[0m\u001b[1;33m,\u001b[0m\u001b[0m_msg_optimizetrm\u001b[0m \u001b[1;33m=\u001b[0m \u001b[0mself\u001b[0m\u001b[1;33m.\u001b[0m\u001b[0m__getlasterror\u001b[0m\u001b[1;33m(\u001b[0m\u001b[0m_res_optimizetrm\u001b[0m\u001b[1;33m)\u001b[0m\u001b[1;33m\u001b[0m\u001b[1;33m\u001b[0m\u001b[0m\n\u001b[0;32m  10770\u001b[0m         \u001b[1;32mraise\u001b[0m \u001b[0mError\u001b[0m\u001b[1;33m(\u001b[0m\u001b[0mrescode\u001b[0m\u001b[1;33m(\u001b[0m\u001b[0m_res_optimizetrm\u001b[0m\u001b[1;33m)\u001b[0m\u001b[1;33m,\u001b[0m\u001b[0m_msg_optimizetrm\u001b[0m\u001b[1;33m)\u001b[0m\u001b[1;33m\u001b[0m\u001b[1;33m\u001b[0m\u001b[0m\n",
      "\u001b[1;31mKeyboardInterrupt\u001b[0m: "
     ]
    }
   ],
   "source": [
    "from exputils.dot.get_topK_Amat import get_topK_Amat\n",
    "\n",
    "n = 4\n",
    "for seed in range(10):\n",
    "    psi1 = make_random_quantum_state(\"pure\", n, seed=2 * seed + 0)\n",
    "    stabilizer_extent1, _, _, dual1 = calculate_extent_CG(n, psi1)\n",
    "    psi2 = make_random_quantum_state(\"pure\", n, seed=2 * seed + 1)\n",
    "    stabilizer_extent2, _, _, dual2 = calculate_extent_CG(n, psi2)\n",
    "    print(f\"{stabilizer_extent1*stabilizer_extent2=}\", flush=True)\n",
    "    dual12 = np.kron(dual1, dual2)\n",
    "    violated12 = get_topK_Amat(2 * n, dual12, is_dual_mode=True, verbose=True)\n",
    "    if violated12.size > 0:\n",
    "        print(\"can be improved!\")"
   ]
  },
  {
   "cell_type": "code",
   "execution_count": null,
   "metadata": {},
   "outputs": [],
   "source": []
  }
 ],
 "metadata": {
  "kernelspec": {
   "display_name": ".venv",
   "language": "python",
   "name": "python3"
  },
  "language_info": {
   "codemirror_mode": {
    "name": "ipython",
    "version": 3
   },
   "file_extension": ".py",
   "mimetype": "text/x-python",
   "name": "python",
   "nbconvert_exporter": "python",
   "pygments_lexer": "ipython3",
   "version": "3.10.4"
  }
 },
 "nbformat": 4,
 "nbformat_minor": 2
}
