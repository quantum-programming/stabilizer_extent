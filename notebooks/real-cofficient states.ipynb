{
 "cells": [
  {
   "cell_type": "markdown",
   "metadata": {},
   "source": [
    "### 固有状態\n",
    "\n",
    "系の時間発展を記述する演算子$H$ (行列)をハミルトニアンといい、時間発展に対応する偏微分方程式をSchroedinger方程式という。\n",
    "$$\n",
    " i \\frac{\\partial }{\\partial t} |\\psi(t) \\rangle = H |\\psi(t)\\rangle.\n",
    "$$\n",
    "ここで、この方程式は$H$の固有ベクトル、固有エネルギーがわかれば完全に解けるので、固有状態を求めるタスクは重要。\n",
    "\n",
    "特に、$H$が実数成分のみで与えられている場合には、$H$は直交行列のみを用いて対角化できるので、自然と固有ベクトルも実数係数のみで書ける。\n",
    "\n",
    "第一原理的に考えると、量子力学のミクロな世界は時間反転対称性があるはずで、そのような場合にはハミルトニアンは実数成分のみで与えられることが知られているらしい。たとえば[この文献](https://topocondmat.org/w1_topointro/0d.html#time-reversal-symmetry)は参考になりそう。\n",
    "\n",
    "実際には、物理では有効模型を抽出して物事を調べることが多く、必ずしも時間反転対称性が守られたハミルトニアンを考えるわけではないが、以下のような例では時間反転対称性が保たれ、実成分のみで書ける。\n",
    "- ハイゼンベルク模型\n",
    "- 横磁場イジング模型\n",
    "- フェルミ-ハバード模型"
   ]
  },
  {
   "cell_type": "code",
   "execution_count": 1,
   "metadata": {},
   "outputs": [],
   "source": [
    "from openfermion import QubitOperator, FermionOperator, get_sparse_operator\n",
    "import numpy as np\n",
    "import scipy\n",
    "\n",
    "\n",
    "def _heisen(i, j):\n",
    "    return (\n",
    "        QubitOperator(f\"X{i} X{j}\")\n",
    "        + QubitOperator(f\"Y{i} Y{j}\")\n",
    "        + QubitOperator(f\"Z{i} Z{j}\")\n",
    "    )\n",
    "\n",
    "\n",
    "def HeisenbergHamiltonian(\n",
    "    edges,\n",
    "):\n",
    "    \"\"\"\n",
    "    ハイゼンベルク模型\n",
    "        H = \\sum_{<i, j>} X_i X_j + Y_i Y_j + Z_i Z_j\n",
    "    attributes:\n",
    "        edges : 相互作用のあるエッジ\n",
    "    \"\"\"\n",
    "    ham = QubitOperator()\n",
    "    for e in edges:\n",
    "        ham += _heisen(*e)\n",
    "    return ham\n",
    "\n",
    "\n",
    "def TransversalFieldIsingHamiltonian(edges, hx):\n",
    "    \"\"\"\n",
    "    横磁場イジング模型\n",
    "       H = h_x \\sum_i X_i + \\sum_{<i, j>} Z_i Z_j\n",
    "    attributes:\n",
    "        edges : 相互作用のあるエッジ\n",
    "        hx       : X方向の磁場の大きさ\n",
    "    \"\"\"\n",
    "    ham = QubitOperator()\n",
    "    n_qubit = max(max(e) for e in edges) + 1\n",
    "    for i in range(n_qubit):\n",
    "        ham += hx * QubitOperator(f\"X{i}\")\n",
    "    for e in edges:\n",
    "        ham += QubitOperator(f\"Z{e[0]} Z{e[1]}\")\n",
    "    return ham\n",
    "\n",
    "\n",
    "def FermiHubbardHamiltonian(edges_hop, edges_int, interaction, potential):\n",
    "    \"\"\"\n",
    "    フェルミハバード模型 (最近接ホッピングのみ、オンサイトポテンシャルのみ)\n",
    "       H = H_hop + H_{pot} + H_int\n",
    "         H_hop = \\sum_{<i, j> : edges_hop} c_i^\\dag c_j + c_j^\\dag c_j\n",
    "         H_pot = (potential) * \\sum_i c_i^\\dag c_i\n",
    "         H_int = (interaction) * \\sum_{<i, j> : edges_int} c_i^\\dag c_i c_j^\\dag c_j\n",
    "    attributes:\n",
    "        edges_hop : ホッピングを許すエッジ\n",
    "        edges_int : 相互作用を許すエッジ\n",
    "        interawction : 相互作用の強さ\n",
    "        potential : 各サイトの化学ポテンシャル\n",
    "    \"\"\"\n",
    "    ham = FermionOperator()\n",
    "    n_mode = max(max(e) for e in edges) + 1\n",
    "\n",
    "    for i in range(n_qubit):\n",
    "        ham += potential * FermionOperator(f\"{i}^ {i}\")\n",
    "    for e in edges_int:\n",
    "        i, j = e\n",
    "        ham += interaction * FermionOperator(f\"{i}^ {i} {j}^ {j}\")\n",
    "\n",
    "    for e in edges_hop:\n",
    "        i, j = e\n",
    "        ham += FermionOperator(f\"{i}^ {j}\") + FermionOperator(f\"{j}^ {i}\")\n",
    "\n",
    "    return ham"
   ]
  },
  {
   "cell_type": "code",
   "execution_count": 9,
   "metadata": {},
   "outputs": [
    {
     "name": "stdout",
     "output_type": "stream",
     "text": [
      "(16, 16)\n",
      "is eigenvectors for Heisenberg Hamiltonian real?  True\n"
     ]
    }
   ],
   "source": [
    "# Heisenberg\n",
    "\n",
    "n_qubit = 4\n",
    "edges = [(0, 1), (1, 2), (2, 3)]\n",
    "hamiltonian = HeisenbergHamiltonian(edges)\n",
    "\n",
    "ham_sp = get_sparse_operator(hamiltonian)\n",
    "ham_mat = ham_sp.toarray()\n",
    "\n",
    "vals, vecs_tmp = np.linalg.eigh(ham_mat)\n",
    "eigenvectors = vecs_tmp.T\n",
    "print(\n",
    "    \"is eigenvectors for Heisenberg Hamiltonian real? \",\n",
    "    np.allclose(eigenvectors, np.real(eigenvectors), atol=1e-10),\n",
    ")"
   ]
  },
  {
   "cell_type": "code",
   "execution_count": 5,
   "metadata": {},
   "outputs": [
    {
     "name": "stdout",
     "output_type": "stream",
     "text": [
      "is eigenvectors for TFI Hamiltonian real?  True\n"
     ]
    }
   ],
   "source": [
    "# Transverse-field Ising (TFI)\n",
    "\n",
    "n_qubit = 4\n",
    "hx = 0.3\n",
    "edges = [(0, 1), (1, 2), (2, 3)]\n",
    "hamiltonian = TransversalFieldIsingHamiltonian(edges, hx)\n",
    "\n",
    "ham_sp = get_sparse_operator(hamiltonian)\n",
    "ham_mat = ham_sp.toarray()\n",
    "\n",
    "vals, vecs_tmp = np.linalg.eigh(ham_mat)\n",
    "eigenvectors = vecs_tmp.T\n",
    "print(\n",
    "    \"is eigenvectors for TFI Hamiltonian real? \",\n",
    "    np.allclose(eigenvectors, np.real(eigenvectors), atol=1e-10),\n",
    ")"
   ]
  },
  {
   "cell_type": "code",
   "execution_count": 19,
   "metadata": {},
   "outputs": [
    {
     "name": "stdout",
     "output_type": "stream",
     "text": [
      "is eigenvectors for Fermi-Hubbard Hamiltonian real?  True\n"
     ]
    }
   ],
   "source": [
    "# Fermi-Hubbard 模型\n",
    "\n",
    "n_qubit = 4\n",
    "edges_hop = [(0, 2), (1, 3)]\n",
    "edges_int = [(0, 1), (2, 3)]\n",
    "potential = 2.0\n",
    "interaction = 1.0\n",
    "hamiltonian = FermiHubbardHamiltonian(edges_hop, edges_int, potential, interaction)\n",
    "\n",
    "ham_sp = get_sparse_operator(hamiltonian)\n",
    "ham_mat = ham_sp.toarray()\n",
    "\n",
    "vals, vecs_tmp = np.linalg.eigh(ham_mat)\n",
    "eigenvectors = vecs_tmp.T\n",
    "print(\n",
    "    \"is eigenvectors for Fermi-Hubbard Hamiltonian real? \",\n",
    "    np.allclose(eigenvectors, np.real(eigenvectors), atol=1e-10),\n",
    ")"
   ]
  },
  {
   "cell_type": "markdown",
   "metadata": {},
   "source": [
    "### Gibbs 状態\n",
    "Hamiltonianが$H = \\sum_i E_i |\\psi_i \\rangle \\langle \\psi_i |$で記述されるような系のGibbs状態 (熱平衡状態)は、逆温度$\\beta = 1/k_B T$($T$:温度, $k_B$:ボルツマン定数)に対して\n",
    "$$\n",
    "    \\rho := e^{- \\beta H}/ Z = \\sum_i p_i |\\psi_i\\rangle \\langle \\psi_i |\n",
    "$$\n",
    "で与えられる。ここで、$Z = {\\rm Tr}[e^{-\\beta H}] = \\sum_i e^{- \\beta E_i}$はボルツマン因子、$p_i = e^{- \\beta E_i}/Z$は規格化されたボルツマン重みである。\n",
    "\n",
    "上に述べたように、固有ベクトルが実数係数のみで書けている場合は、そのprobabilistic mixtureであるGibbs状態も、同様に実数成分をもつ密度行列になる。"
   ]
  },
  {
   "cell_type": "code",
   "execution_count": 6,
   "metadata": {},
   "outputs": [
    {
     "name": "stdout",
     "output_type": "stream",
     "text": [
      "(16, 16)\n",
      "is Gibbs state real?  True\n"
     ]
    }
   ],
   "source": [
    "beta = 1.0  # inverse temperature\n",
    "gibbs_state = scipy.linalg.expm(-beta * ham_mat)\n",
    "gibbs_state /= np.trace(gibbs_state)\n",
    "print(\n",
    "    \"is Gibbs state real? \", np.allclose(gibbs_state, np.real(gibbs_state), atol=1e-10)\n",
    ")"
   ]
  },
  {
   "cell_type": "code",
   "execution_count": 7,
   "metadata": {},
   "outputs": [
    {
     "name": "stdout",
     "output_type": "stream",
     "text": [
      "consistency check in calculating expectation values:  True\n"
     ]
    }
   ],
   "source": [
    "# check the construction of Gibbs state.\n",
    "\n",
    "# calculation 1 : <O> = Tr[\\rho O]\n",
    "observable = QubitOperator(\"X0 X1\")\n",
    "obs_mat = get_sparse_operator(observable, n_qubits=n_qubit).toarray()\n",
    "gibbs_expectation_value1 = np.trace(gibbs_state @ obs_mat)\n",
    "\n",
    "# calculation 2 : <O> = \\sum_i p_i < psi_i | O | psi_i> =\n",
    "probability = np.exp(-beta * vals)\n",
    "probability /= sum(probability)\n",
    "expectation_values = [_vec.conj() @ obs_mat @ _vec for _vec in eigenvectors]\n",
    "gibbs_expectation_value2 = sum(\n",
    "    [probability[i] * expectation_values[i] for i in range(len(eigenvectors))]\n",
    ")\n",
    "print(\n",
    "    \"consistency check in calculating expectation values: \",\n",
    "    np.isclose(gibbs_expectation_value1, gibbs_expectation_value2),\n",
    ")"
   ]
  }
 ],
 "metadata": {
  "anaconda-cloud": {},
  "kernelspec": {
   "display_name": ".venv",
   "language": "python",
   "name": "python3"
  },
  "language_info": {
   "codemirror_mode": {
    "name": "ipython",
    "version": 3
   },
   "file_extension": ".py",
   "mimetype": "text/x-python",
   "name": "python",
   "nbconvert_exporter": "python",
   "pygments_lexer": "ipython3",
   "version": "3.10.4"
  },
  "toc": {
   "base_numbering": 1,
   "nav_menu": {},
   "number_sections": true,
   "sideBar": true,
   "skip_h1_title": false,
   "title_cell": "Table of Contents",
   "title_sidebar": "Contents",
   "toc_cell": false,
   "toc_position": {
    "height": "calc(100% - 180px)",
    "left": "10px",
    "top": "150px",
    "width": "173.391px"
   },
   "toc_section_display": true,
   "toc_window_display": true
  }
 },
 "nbformat": 4,
 "nbformat_minor": 1
}
