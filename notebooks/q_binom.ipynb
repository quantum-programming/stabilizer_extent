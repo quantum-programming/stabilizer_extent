{
 "cells": [
  {
   "cell_type": "markdown",
   "metadata": {},
   "source": [
    "# q binom"
   ]
  },
  {
   "cell_type": "code",
   "execution_count": 1,
   "metadata": {},
   "outputs": [
    {
     "name": "stdout",
     "output_type": "stream",
     "text": [
      "n=10 k=1 q_binomial(n, k)=1023 term=1047552\n",
      "n=10 k=2 q_binomial(n, k)=174251 term=356866048\n",
      "n=10 k=3 q_binomial(n, k)=6347715 term=52000481280\n",
      "n=10 k=4 q_binomial(n, k)=53743987 term=3522165932032\n",
      "n=10 k=5 q_binomial(n, k)=109221651 term=114527201918976\n",
      "n=10 k=6 q_binomial(n, k)=53743987 term=1803348957200384\n",
      "n=10 k=7 q_binomial(n, k)=6347715 term=13631614164664320\n",
      "n=10 k=8 q_binomial(n, k)=174251 term=47897750162898944\n",
      "n=10 k=9 q_binomial(n, k)=1023 term=71987225293750272\n",
      "n=10 k=10 q_binomial(n, k)=1 term=36028797018963968\n",
      "171466837323724800\n",
      "87876754128408960000\n",
      "18446744073709551616\n"
     ]
    }
   ],
   "source": [
    "from exputils.math.q_binom import q_binomial\n",
    "from exputils.stabilizer_group import total_stabilizer_group_size\n",
    "\n",
    "\n",
    "n = 10\n",
    "cnt = 1 << n\n",
    "for k in range(1, n + 1):\n",
    "    term = q_binomial(n, k) * (1 << (n - k + k * (k + 1) // 2))\n",
    "    print(f\"{n=} {k=} {q_binomial(n, k)=} {term=}\")\n",
    "    cnt += term\n",
    "print(cnt)\n",
    "print(total_stabilizer_group_size(n))\n",
    "print(1 << 64)"
   ]
  },
  {
   "cell_type": "code",
   "execution_count": 3,
   "metadata": {},
   "outputs": [
    {
     "name": "stdout",
     "output_type": "stream",
     "text": [
      "2423488\n",
      "2423488\n"
     ]
    }
   ],
   "source": [
    "n = 5\n",
    "\n",
    "cnt = 0\n",
    "for k in range(1, n + 1):\n",
    "    term = q_binomial(n, k) * (1 << (n - k + k + k * (k + 1) // 2))\n",
    "    cnt += term\n",
    "print(cnt)\n",
    "\n",
    "print(-(2**n) + total_stabilizer_group_size(n))"
   ]
  },
  {
   "cell_type": "code",
   "execution_count": 4,
   "metadata": {},
   "outputs": [
    {
     "name": "stdout",
     "output_type": "stream",
     "text": [
      "75735\n",
      "75735\n"
     ]
    }
   ],
   "source": [
    "cnt1 = 0\n",
    "for k in range(0, n + 1):\n",
    "    term = q_binomial(n, k) * (1 << (k * (k + 1) // 2))\n",
    "    cnt1 += term\n",
    "cnt2 = 1\n",
    "for k in range(1, n + 1):\n",
    "    term = (1 << k) + 1\n",
    "    cnt2 *= term\n",
    "\n",
    "print(cnt1)\n",
    "print(cnt2)"
   ]
  }
 ],
 "metadata": {
  "kernelspec": {
   "display_name": ".venv",
   "language": "python",
   "name": "python3"
  },
  "language_info": {
   "codemirror_mode": {
    "name": "ipython",
    "version": 3
   },
   "file_extension": ".py",
   "mimetype": "text/x-python",
   "name": "python",
   "nbconvert_exporter": "python",
   "pygments_lexer": "ipython3",
   "version": "3.10.4"
  }
 },
 "nbformat": 4,
 "nbformat_minor": 2
}
