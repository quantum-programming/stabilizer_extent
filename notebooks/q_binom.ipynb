{
 "cells": [
  {
   "cell_type": "markdown",
   "metadata": {},
   "source": [
    "# q binom"
   ]
  },
  {
   "cell_type": "code",
   "execution_count": 1,
   "metadata": {},
   "outputs": [
    {
     "name": "stdout",
     "output_type": "stream",
     "text": [
      "n=10 k=1 q_binomial(n,k)=1023\n",
      "n=10 k=2 q_binomial(n,k)=174251\n",
      "n=10 k=3 q_binomial(n,k)=6347715\n",
      "n=10 k=4 q_binomial(n,k)=53743987\n",
      "n=10 k=5 q_binomial(n,k)=109221651\n",
      "n=10 k=6 q_binomial(n,k)=53743987\n",
      "n=10 k=7 q_binomial(n,k)=6347715\n",
      "n=10 k=8 q_binomial(n,k)=174251\n",
      "n=10 k=9 q_binomial(n,k)=1023\n",
      "n=10 k=10 q_binomial(n,k)=1\n",
      "87876754128408960000\n",
      "87876754128408960000\n",
      "18446744073709551616\n"
     ]
    }
   ],
   "source": [
    "from exputils.math.q_binom import q_binomial\n",
    "from exputils.stabilizer_group import total_stabilizer_group_size\n",
    "\n",
    "\n",
    "n = 10\n",
    "cnt = 1 << n\n",
    "for k in range(1, n + 1):\n",
    "    print(f\"{n=} {k=} {q_binomial(n,k)=}\")\n",
    "    term = q_binomial(n, k) * (1 << (n - k + k + k * (k + 1) // 2))\n",
    "    cnt += term\n",
    "print(cnt)\n",
    "print(total_stabilizer_group_size(n))\n",
    "print(1 << 64)"
   ]
  }
 ],
 "metadata": {
  "kernelspec": {
   "display_name": ".venv",
   "language": "python",
   "name": "python3"
  },
  "language_info": {
   "codemirror_mode": {
    "name": "ipython",
    "version": 3
   },
   "file_extension": ".py",
   "mimetype": "text/x-python",
   "name": "python",
   "nbconvert_exporter": "python",
   "pygments_lexer": "ipython3",
   "version": "3.10.4"
  }
 },
 "nbformat": 4,
 "nbformat_minor": 2
}
