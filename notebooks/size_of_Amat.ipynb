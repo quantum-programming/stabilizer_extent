{
 "cells": [
  {
   "cell_type": "code",
   "execution_count": 12,
   "metadata": {},
   "outputs": [
    {
     "name": "stdout",
     "output_type": "stream",
     "text": [
      "n & 5 & 6 & 7 & 8 & 9 & 10 \\\\\n",
      "\\midrule\n",
      "$|\\calS_n|$ & 2.42e+06 & 3.15e+08 & 8.13e+10 & 4.18e+13 & 4.29e+16 & 8.79e+19 \\\\\n",
      "size of $A_n$ & \\SI{2.3}{\\kibi\\byte} & \\SI{25.9}{\\kibi\\byte} & \\SI{367.2}{\\kibi\\byte} & \\SI{6.2}{\\mebi\\byte} & \\SI{128.0}{\\mebi\\byte} & \\SI{3.1}{\\gibi\\byte} \\\\\n",
      "proposed & \\SI{2.3}{\\kibi\\byte} & \\SI{25.9}{\\kibi\\byte} & \\SI{367.2}{\\kibi\\byte} & \\SI{6.2}{\\mebi\\byte} & \\SI{128.0}{\\mebi\\byte} & \\SI{3.1}{\\gibi\\byte} \\\\\n"
     ]
    }
   ],
   "source": [
    "from exputils.stabilizer_group import total_stabilizer_group_size\n",
    "\n",
    "\n",
    "def toSI(num):\n",
    "    if num < 1024:\n",
    "        return f\"{num:.1f}\", \"\"\n",
    "    if num < 1024**2:\n",
    "        return f\"{num/(1024):.1f}\", r\"\\kibi\"\n",
    "    if num < 1024**3:\n",
    "        return f\"{num/(1024**2):.1f}\", r\"\\mebi\"\n",
    "    if num < 1024**4:\n",
    "        return f\"{num/(1024**3):.1f}\", r\"\\gibi\"\n",
    "    if num < 1024**5:\n",
    "        return f\"{num/(1024**4):.1f}\", r\"\\tebi\"\n",
    "    if num < 1024**6:\n",
    "        return f\"{num/(1024**5):.1f}\", r\"\\pebi\"\n",
    "    if num < 1024**7:\n",
    "        return f\"{num/(1024**6):.1f}\", r\"\\exbi\"\n",
    "    if num < 1024**8:\n",
    "        return f\"{num/(1024**7):.1f}\", r\"\\zebi\"\n",
    "    if num < 1024**9:\n",
    "        return f\"{num/(1024**8):.1f}\", r\"\\yobi\"\n",
    "    else:\n",
    "        raise ValueError(\"Number too large for SI conversion\")\n",
    "\n",
    "\n",
    "def calc_matrix_size(n):\n",
    "    res = 2 ** (n**1.5)\n",
    "    val, unit = toSI(res)\n",
    "    return r\"\\SI{\" + val + \"}{\" + unit + r\"\\byte}\"\n",
    "\n",
    "\n",
    "def calc_proposed_size(n):\n",
    "    res = 2 ** (n**1.5)\n",
    "    val, unit = toSI(res)\n",
    "    return r\"\\SI{\" + val + \"}{\" + unit + r\"\\byte}\"\n",
    "\n",
    "\n",
    "for label in [\"n\", \"$|\\calS_n|$\", \"size of $A_n$\", \"proposed\"]:\n",
    "    print(label, end=\" &\")\n",
    "    for n in range(5, 10 + 1):\n",
    "        if label == \"n\":\n",
    "            print(f\" {n} \", end=\"&\")\n",
    "        if label == \"$|\\calS_n|$\":\n",
    "            print(f\" {total_stabilizer_group_size(n):.2e} \", end=\"&\")\n",
    "        if label == \"size of $A_n$\":\n",
    "            print(f\" {calc_matrix_size(n)} \", end=\"&\")\n",
    "        if label == \"proposed\":\n",
    "            print(f\" {calc_proposed_size(n)} \", end=\"&\")\n",
    "    print(\"\\b\", end=\"\")\n",
    "    print(\"\\\\\\\\\")\n",
    "    if label == \"n\":\n",
    "        print(r\"\\midrule\")"
   ]
  }
 ],
 "metadata": {
  "kernelspec": {
   "display_name": ".venv",
   "language": "python",
   "name": "python3"
  },
  "language_info": {
   "codemirror_mode": {
    "name": "ipython",
    "version": 3
   },
   "file_extension": ".py",
   "mimetype": "text/x-python",
   "name": "python",
   "nbconvert_exporter": "python",
   "pygments_lexer": "ipython3",
   "version": "3.10.4"
  }
 },
 "nbformat": 4,
 "nbformat_minor": 2
}
